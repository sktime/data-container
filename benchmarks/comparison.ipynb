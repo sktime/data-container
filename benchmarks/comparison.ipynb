{
 "cells": [
  {
   "cell_type": "code",
   "execution_count": 64,
   "metadata": {
    "collapsed": true,
    "pycharm": {
     "is_executing": false
    }
   },
   "outputs": [],
   "source": [
    "# General imports\n",
    "from sklearn.tree import DecisionTreeClassifier\n",
    "from sktime.datasets import load_gunpoint\n",
    "from sktime.pipeline import Pipeline, FeatureUnion\n",
    "import pandas as pd\n",
    "import numpy as np\n",
    "\n",
    "# Imports for the current sktime implementation (i.e. pd.Series)\n",
    "from sklearn.preprocessing import FunctionTransformer\n",
    "from sktime.transformers.segment import RandomIntervalSegmenter as BaseIntervalSegmenter\n",
    "from sktime.transformers.compose import RowwiseTransformer, Tabularizer\n",
    "from sktime.utils.time_series import time_series_slope\n",
    "from sktime.utils.data_container import tabularize\n",
    "\n",
    "# Imports for the awkwardarray-based implementation\n",
    "from awkwardarray.transformers import \\\n",
    "    RandomIntervalSegmenter as AwkIntervalSegmenter, \\\n",
    "    FeatureUnionTransformer as AwkFeatureUnionTransformer, \\\n",
    "    UniversalFunctionTransformer as AwkUniversalFunctionTransformer, \\\n",
    "    GenericFunctionTransformer as AwkGenericFunctionTransformer, TabularTransformer\n",
    "from awkwardarray.utils import awkward_build, awkward_slope_func, awkward_tabularize\n",
    "\n",
    "# Imports for the extensionarray-based implementation\n",
    "from extensionarray.timeframe import TimeFrame\n",
    "from extensionarray.reimplement import \\\n",
    "    RandomIntervalSegmenter as ExtIntervalSegmenter, \\\n",
    "    UniversalFunctionTransformer as ExtUniversalFunctionTransformer, \\\n",
    "    GenericFunctionTransformer as ExtGenericFunctionTransformer, \\\n",
    "    extarray_slope_func"
   ]
  },
  {
   "cell_type": "markdown",
   "source": [
    "## Prepare the data for each implementation\n"
   ],
   "metadata": {
    "collapsed": false,
    "pycharm": {
     "name": "#%% md\n"
    }
   }
  },
  {
   "cell_type": "code",
   "execution_count": 2,
   "outputs": [],
   "source": [
    "# Replicate the gunpoint dataset 20 times to get a reasonably sized dataset\n",
    "X = pd.concat([load_gunpoint(return_X_y=False) for _ in range(20)])\n",
    "y = X['class_val']\n",
    "X.drop('class_val', axis=1, inplace=True)\n"
   ],
   "metadata": {
    "collapsed": false,
    "pycharm": {
     "name": "#%%\n",
     "is_executing": false
    }
   }
  },
  {
   "cell_type": "code",
   "execution_count": 61,
   "outputs": [
    {
     "name": "stdout",
     "text": [
      "dim_0    object\n",
      "dtype: object\n",
      "Class of a single cell: <class 'pandas.core.series.Series'>\n",
      "Representation in the console: \n",
      "                                               dim_0\n",
      "0  0     -0.64789\n",
      "1     -0.64199\n",
      "2     -0.63819\n",
      "3...\n",
      "1  0     -0.64443\n",
      "1     -0.64540\n",
      "2     -0.64706\n",
      "3...\n"
     ],
     "output_type": "stream"
    }
   ],
   "source": [
    "# This is the current implementation\n",
    "X_base = X.copy()\n",
    "\n",
    "print(X_base.dtypes)\n",
    "print(\"Class of a single cell: \" + str(X_base.iloc[0,0].__class__))\n",
    "print(\"Representation in the console: \")\n",
    "print(X_base.head(2))"
   ],
   "metadata": {
    "collapsed": false,
    "pycharm": {
     "name": "#%%\n",
     "is_executing": false
    }
   }
  },
  {
   "cell_type": "code",
   "execution_count": 10,
   "outputs": [
    {
     "name": "stdout",
     "text": [
      "[[[-0.64789 -0.64199 -0.63819 ... -0.64043 -0.63867 -0.63866]] [[-0.64443 -0.6454 -0.64706 ... -0.63493 -0.6345 -0.6316]] [[-0.77835 -0.77828 -0.77715 ... -0.7042 -0.70761 -0.70712]] ... [[-0.77913 -0.77838 -0.77574 ... -0.50501 -0.50373 -0.50438]] [[-0.70303 -0.70262 -0.7025 ... -0.64113 -0.64141 -0.64211]] [[-1.4357 -1.4323 -1.4329 ... -1.4355 -1.4353 -1.4309]]]\n"
     ],
     "output_type": "stream"
    }
   ],
   "source": [
    "# Convert to an awkward array\n",
    "X_awk = awkward_build(X)\n",
    "\n",
    "print(\"Representation in the console: \")\n",
    "print(X_awk)"
   ],
   "metadata": {
    "collapsed": false,
    "pycharm": {
     "name": "#%%\n",
     "is_executing": false
    }
   }
  },
  {
   "cell_type": "code",
   "execution_count": 62,
   "outputs": [
    {
     "name": "stdout",
     "text": [
      "dim_0    timeseries\n",
      "dtype: object\n",
      "Class of a single cell: <class 'numpy.ndarray'>\n",
      "Representation in the console: \n",
      "                                               dim_0\n",
      "0  [-0.64789  -0.64199  -0.63819  -0.63826  -0.63...\n",
      "1  [-0.64443  -0.6454   -0.64706  -0.64749  -0.64...\n"
     ],
     "output_type": "stream"
    }
   ],
   "source": [
    "# Convert to an extensionarray/TimeFrame\n",
    "X_ext = TimeFrame(data={'dim_0': tabularize(X['dim_0'], return_array=True)})\n",
    "\n",
    "print(X_ext.dtypes)\n",
    "print(\"Class of a single cell: \" + str(X_ext.iloc[0,0].__class__))\n",
    "print(\"Representation in the console: \")\n",
    "print(X_ext.head(2))\n"
   ],
   "metadata": {
    "collapsed": false,
    "pycharm": {
     "name": "#%%\n",
     "is_executing": false
    }
   }
  },
  {
   "cell_type": "code",
   "source": [
    "## Tabularize"
   ],
   "metadata": {
    "collapsed": false,
    "pycharm": {
     "name": "#%% md \n"
    }
   },
   "execution_count": null,
   "outputs": []
  },
  {
   "cell_type": "code",
   "execution_count": 32,
   "outputs": [
    {
     "name": "stdout",
     "text": [
      "<class 'pandas.core.frame.DataFrame'>\n",
      "dim_0__0      float64\n",
      "dim_0__1      float64\n",
      "dim_0__2      float64\n",
      "dim_0__3      float64\n",
      "dim_0__4      float64\n",
      "               ...   \n",
      "dim_0__145    float64\n",
      "dim_0__146    float64\n",
      "dim_0__147    float64\n",
      "dim_0__148    float64\n",
      "dim_0__149    float64\n",
      "Length: 150, dtype: object\n",
      "   dim_0__0  dim_0__1  dim_0__2  dim_0__3  dim_0__4\n",
      "0  -0.64789  -0.64199  -0.63819  -0.63826  -0.63835\n",
      "1  -0.64443  -0.64540  -0.64706  -0.64749  -0.64691\n"
     ],
     "output_type": "stream"
    }
   ],
   "source": [
    "base_tabularizer = Tabularizer(check_input=False)\n",
    "X_base_tab = base_tabularizer.fit_transform(X)\n",
    "\n",
    "print(X_base_tab.__class__)\n",
    "print(X_base_tab.dtypes)\n",
    "print(\"Representation in the console: \")\n",
    "print(X_base_tab.iloc[0:2, 0:5])"
   ],
   "metadata": {
    "collapsed": false,
    "pycharm": {
     "name": "#%%\n",
     "is_executing": false
    }
   }
  },
  {
   "cell_type": "code",
   "execution_count": 18,
   "outputs": [
    {
     "name": "stdout",
     "text": [
      "<class 'awkward.array.jagged.JaggedArray'>\n",
      "[[-0.64789 -0.64199 -0.63819 ... -0.64043 -0.63867 -0.63866] [-0.64443 -0.6454 -0.64706 ... -0.63493 -0.6345 -0.6316] [-0.77835 -0.77828 -0.77715 ... -0.7042 -0.70761 -0.70712] ... [-0.77913 -0.77838 -0.77574 ... -0.50501 -0.50373 -0.50438] [-0.70303 -0.70262 -0.7025 ... -0.64113 -0.64141 -0.64211] [-1.4357 -1.4323 -1.4329 ... -1.4355 -1.4353 -1.4309]]\n"
     ],
     "output_type": "stream"
    }
   ],
   "source": [
    "awk_tabularizer = TabularTransformer()\n",
    "X_awk_tab = awk_tabularizer.fit_transform(X_awk)\n",
    "print(X_awk_tab.__class__)\n",
    "print(\"Representation in the console: \")\n",
    "print(X_awk_tab)"
   ],
   "metadata": {
    "collapsed": false,
    "pycharm": {
     "name": "#%%\n",
     "is_executing": false
    }
   }
  },
  {
   "cell_type": "code",
   "execution_count": 24,
   "outputs": [
    {
     "name": "stdout",
     "text": [
      "<class 'pandas.core.frame.DataFrame'>\n",
      "   dim_0_0  dim_0_1  dim_0_2  dim_0_3  dim_0_4\n",
      "0 -0.64789 -0.64199 -0.63819 -0.63826 -0.63835\n",
      "1 -0.64443 -0.64540 -0.64706 -0.64749 -0.64691\n"
     ],
     "output_type": "stream"
    }
   ],
   "source": [
    "X_ext_tab = X_ext.tabularise()\n",
    "\n",
    "print(X_ext_tab.__class__)\n",
    "print(\"Representation in the console: \")\n",
    "print(X_ext_tab.iloc[0:2, 0:5])\n"
   ],
   "metadata": {
    "collapsed": false,
    "pycharm": {
     "name": "#%%\n",
     "is_executing": false
    }
   }
  },
  {
   "cell_type": "code",
   "source": [
    "## Segmentation"
   ],
   "metadata": {
    "collapsed": false,
    "pycharm": {
     "name": "#%% md \n",
     "is_executing": false
    }
   },
   "execution_count": 28,
   "outputs": []
  },
  {
   "cell_type": "code",
   "execution_count": 56,
   "outputs": [
    {
     "name": "stdout",
     "text": [
      "<class 'pandas.core.frame.DataFrame'>\n",
      "dim_0_117_146    object\n",
      "dim_0_87_118     object\n",
      "dim_0_135_141    object\n",
      "dtype: object\n",
      "Class of a single cell: <class 'numpy.ndarray'>\n",
      "                                       dim_0_117_146  \\\n",
      "0  [-0.68631, -0.67374, -0.66839, -0.66464, -0.66...   \n",
      "1  [-0.7005, -0.69251, -0.68554, -0.67507, -0.669...   \n",
      "\n",
      "                                        dim_0_87_118  \\\n",
      "0  [1.8292, 1.8224, 1.8137, 1.8066, 1.7817, 1.768...   \n",
      "1  [1.7656, 1.6632, 1.5312, 1.3838, 1.2475, 1.114...   \n",
      "\n",
      "                                       dim_0_135_141  \n",
      "0  [-0.63579, -0.63628, -0.6354, -0.63607, -0.637...  \n",
      "1  [-0.64283, -0.64348, -0.64357, -0.64187, -0.64...  \n"
     ],
     "output_type": "stream"
    }
   ],
   "source": [
    "base_segmenter = BaseIntervalSegmenter(n_intervals=3)\n",
    "X_base_seg = base_segmenter.fit_transform(X_base)\n",
    "\n",
    "print(X_base_seg.__class__)\n",
    "print(X_base_seg.dtypes)\n",
    "print(\"Class of a single cell: \" + str(X_base_seg.iloc[0,0].__class__)) # Note: this has changed from pd.Series to np.ndarray\n",
    "print(\"Representation in the console: \")\n",
    "print(X_base_seg.iloc[0:2, 0:3])"
   ],
   "metadata": {
    "collapsed": false,
    "pycharm": {
     "name": "#%%\n",
     "is_executing": false
    }
   }
  },
  {
   "cell_type": "code",
   "execution_count": 27,
   "outputs": [
    {
     "name": "stdout",
     "text": [
      "<class 'awkward.array.jagged.JaggedArray'>\n",
      "[[-0.64789 -0.64199 -0.63819 ... -0.64043 -0.63867 -0.63866] [-0.64443 -0.6454 -0.64706 ... -0.63493 -0.6345 -0.6316] [-0.77835 -0.77828 -0.77715 ... -0.7042 -0.70761 -0.70712] ... [-0.77913 -0.77838 -0.77574 ... -0.50501 -0.50373 -0.50438] [-0.70303 -0.70262 -0.7025 ... -0.64113 -0.64141 -0.64211] [-1.4357 -1.4323 -1.4329 ... -1.4355 -1.4353 -1.4309]]\n"
     ],
     "output_type": "stream"
    }
   ],
   "source": [
    "awk_segmenter = AwkIntervalSegmenter(n_intervals=3)\n",
    "X_awk_seg = awk_segmenter.fit_transform(X_awk)\n",
    "\n",
    "print(X_awk_seg.__class__)\n",
    "print(\"Representation in the console: \")\n",
    "print(X_awk_seg)"
   ],
   "metadata": {
    "collapsed": false,
    "pycharm": {
     "name": "#%%\n",
     "is_executing": false
    }
   }
  },
  {
   "cell_type": "code",
   "execution_count": 53,
   "outputs": [
    {
     "name": "stdout",
     "text": [
      "<class 'pandas.core.frame.DataFrame'>\n",
      "dim_0_122_143    timeseries\n",
      "dim_0_71_77      timeseries\n",
      "dim_0_138_150    timeseries\n",
      "dtype: object\n",
      "<class 'numpy.ndarray'>\n",
      "                                       dim_0_122_143  \\\n",
      "0  [-0.6643  -0.6612  -0.65935 -0.65258 -0.64332 ...   \n",
      "1  [-0.66321 -0.65961 -0.65295 -0.64982 -0.6472  ...   \n",
      "\n",
      "                                   dim_0_71_77  \\\n",
      "0  [1.7971 1.8102 1.8206 1.8172 1.8316 1.8316]   \n",
      "1  [1.9094 1.9125 1.9097 1.9175 1.919  1.919 ]   \n",
      "\n",
      "                                       dim_0_138_150  \n",
      "0  [-0.63607 -0.63755 -0.63926 -0.63972 -0.63973 ...  \n",
      "1  [-0.64187 -0.64157 -0.64114 -0.64143 -0.63927 ...  \n"
     ],
     "output_type": "stream"
    }
   ],
   "source": [
    "ext_segmenter = ExtIntervalSegmenter(n_intervals=3)\n",
    "X_ext_seg = ext_segmenter.fit_transform(X_ext)\n",
    "\n",
    "print(X_ext_seg.__class__)\n",
    "print(X_ext_seg.dtypes) # Note: the segments remain TimeSeries with all attached functionality\n",
    "print(\"Class of a single cell: \" + X_ext_seg.iloc[0,0].__class__) \n",
    "print(\"Representation in the console: \")\n",
    "print(X_ext_seg.iloc[0:2, 0:3])"
   ],
   "metadata": {
    "collapsed": false,
    "pycharm": {
     "name": "#%%\n",
     "is_executing": false
    }
   }
  },
  {
   "cell_type": "code",
   "execution_count": null,
   "outputs": [],
   "source": [
    "## Functions (mean)"
   ],
   "metadata": {
    "collapsed": false,
    "pycharm": {
     "name": "#%% md \n"
    }
   }
  },
  {
   "cell_type": "code",
   "execution_count": 68,
   "outputs": [
    {
     "name": "stdout",
     "text": [
      "<class 'pandas.core.frame.DataFrame'>\n",
      "dim_0_117_146    float64\n",
      "dim_0_87_118     float64\n",
      "dim_0_135_141    float64\n",
      "dtype: object\n",
      "Class of a single cell: <class 'numpy.float64'>\n",
      "Representation in the console: \n",
      "   dim_0_117_146  dim_0_87_118  dim_0_135_141\n",
      "0      -0.645997      0.499598      -0.636725\n",
      "1      -0.651753      0.005404      -0.642410\n"
     ],
     "output_type": "stream"
    }
   ],
   "source": [
    "base_mean_trans = RowwiseTransformer(FunctionTransformer(func=np.mean, validate=False))\n",
    "X_base_mean = base_mean_trans.fit_transform(X_base_seg)\n",
    "\n",
    "print(X_base_mean.__class__)\n",
    "print(X_base_mean.dtypes)\n",
    "print(\"Class of a single cell: \" + str(X_base_mean.iloc[0,0].__class__)) # Note: this has changed from pd.Series to np.ndarray\n",
    "print(\"Representation in the console: \")\n",
    "print(X_base_mean.iloc[0:2, 0:3])"
   ],
   "metadata": {
    "collapsed": false,
    "pycharm": {
     "name": "#%%\n",
     "is_executing": false
    }
   }
  },
  {
   "cell_type": "code",
   "execution_count": 65,
   "outputs": [
    {
     "name": "stdout",
     "text": [
      "<class 'awkward.array.jagged.JaggedArray'>\n",
      "Representation in the console: \n",
      "[[-0.63931 -0.659584 1.527622307692308] [-0.6364700000000001 -0.6633417142857142 1.0755012307692309] [-0.703695 -0.6655291428571429 1.147088846153846] ... [-0.50953 -0.5284925714285714 1.0813631538461537] [-0.6385149999999999 -0.6135448571428572 0.6340556153846154] [-1.43735 -0.7737629428571429 0.7811576923076923]]\n"
     ],
     "output_type": "stream"
    }
   ],
   "source": [
    "awk_mean_trans = AwkUniversalFunctionTransformer(\"mean\")\n",
    "X_awk_mean = awk_mean_trans.fit_transform(X_awk_seg)\n",
    "\n",
    "print(X_awk_mean.__class__)\n",
    "print(\"Representation in the console: \")\n",
    "print(X_awk_mean)"
   ],
   "metadata": {
    "collapsed": false,
    "pycharm": {
     "name": "#%%\n",
     "is_executing": false
    }
   }
  },
  {
   "cell_type": "code",
   "execution_count": 67,
   "outputs": [
    {
     "name": "stdout",
     "text": [
      "<class 'pandas.core.frame.DataFrame'>\n",
      "dim_0_122_143    float64\n",
      "dim_0_71_77      float64\n",
      "dim_0_138_150    float64\n",
      "dtype: object\n",
      "Class of a single cell: <class 'numpy.float64'>\n",
      "Representation in the console: \n",
      "   dim_0_122_143  dim_0_71_77  dim_0_138_150\n",
      "0      -0.640853     1.818050      -0.639093\n",
      "1      -0.646031     1.914517      -0.637712\n"
     ],
     "output_type": "stream"
    }
   ],
   "source": [
    "ext_mean_trans = ExtUniversalFunctionTransformer(\"mean\")\n",
    "X_ext_mean = ext_mean_trans.fit_transform(X_ext_seg)\n",
    "\n",
    "print(X_ext_mean.__class__)\n",
    "print(X_ext_mean.dtypes) # Note: the segments remain TimeSeries with all attached functionality\n",
    "print(\"Class of a single cell: \" + str(X_ext_mean.iloc[0,0].__class__)) \n",
    "print(\"Representation in the console: \")\n",
    "print(X_ext_mean.iloc[0:2, 0:3])\n"
   ],
   "metadata": {
    "collapsed": false,
    "pycharm": {
     "name": "#%%\n",
     "is_executing": false
    }
   }
  },
  {
   "cell_type": "markdown",
   "source": [
    "**Note:** Both new implementations use a separate GenericFunctionTransformer to apply a custom slope function. This is not shown here, since it has the same output. It should also be possible to create a FunctionTransformer that can handle both universal functions and generic functions at the same time (e.g. through simple if-else statements).\n",
    "\n"
   ],
   "metadata": {
    "collapsed": false,
    "pycharm": {
     "name": "#%% md\n"
    }
   }
  },
  {
   "cell_type": "markdown",
   "source": [
    "## Run the full benchmarking"
   ],
   "metadata": {
    "collapsed": false,
    "pycharm": {
     "name": "#%% md\n"
    }
   }
  },
  {
   "cell_type": "code",
   "execution_count": 69,
   "outputs": [
    {
     "name": "stdout",
     "text": [
      "\n",
      "Awkward Array Tabularize: [6.817999999384484e-05, 6.693499999528285e-05, 8.150000001023727e-05, 6.53149999834568e-05, 5.734999999731372e-05, 6.3905000001796e-05, 6.859000000076776e-05, 6.573000000571483e-05, 6.51049999987663e-05, 6.201999999575492e-05, 5.875000001651642e-05, 5.680500000835309e-05, 6.108000000040192e-05, 6.52949999903285e-05, 6.395000000338768e-05, 6.545500000356696e-05, 5.6259999996655094e-05, 6.725500002175977e-05, 5.752000001848501e-05, 7.399500000246917e-05]\n",
      "Awkward Array Detabularize: [0.0001596299999846451, 0.0001224800000045434, 0.0001412400000162961, 0.00014536500000303932, 0.00011879500000304688, 0.00015437499998824933, 0.00013801499999317458, 0.0001462049999872761, 0.00012991500000225642, 0.00013178500000776694, 0.00013113999998495273, 0.00013593999999557128, 0.00013593500000297354, 0.0001557450000063909, 0.00012319500001467532, 0.00013513000001239562, 0.00011666500001865643, 0.00014235999999527847, 0.00014779999999063874, 0.0001262300000007599]\n",
      "Awkward Array Segmenter: [0.003667815000017072, 0.003529425000010633, 0.0036690249999992374, 0.0037783900000022187, 0.0038654850000057195, 0.003478154999993421, 0.003477270000007593, 0.004697325000006458, 0.004288649999989502, 0.003524280000010549, 0.0036524050000025453, 0.0036748200000147335, 0.004013710000003811, 0.004423369999994975, 0.004300334999993538, 0.003530575000013414, 0.0038295599999855767, 0.004098789999989094, 0.003266129999997247, 0.003670790000001034]\n",
      "Awkward Array Mean: [0.0024174650000077236, 0.0016207949999852644, 0.0007691499999964435, 0.002084845000013047, 0.0006805550000080985, 0.0006778700000040772, 0.0019332600000097956, 0.0005979600000046049, 0.0017813499999874693, 0.0005739949999906457, 0.000687459999994644, 0.00150724000000082, 0.0005855449999899065, 0.0005862649999926362, 0.0006482250000090061, 0.0005921100000023216, 0.0006611899999825255, 0.0018835050000006958, 0.002458115000013095, 0.0006362449999869568]\n",
      "Awkward Array Std: [0.01080946499998845, 0.008536209999988387, 0.004467584999997598, 0.003132410000011987, 0.010913660000005621, 0.0033559700000068914, 0.003070554999999331, 0.0033855449999919073, 0.0027917000000115878, 0.00915153000000828, 0.010418365000009543, 0.01231158499999765, 0.0042777749999913794, 0.007570785000007163, 0.003912835000005543, 0.008450179999999818, 0.011864649999984067, 0.004618315000016082, 0.006905720000008842, 0.004525175000003401]\n",
      "Awkward Array Slope: [0.020756084999993617, 0.019411874999991596, 0.008308869999996204, 0.010343875000012303, 0.02018740500000149, 0.014045084999997926, 0.007339980000006107, 0.016729014999987156, 0.02029781500000354, 0.010304049999990638, 0.0104540199999974, 0.005794379999997545, 0.005067015000008723, 0.006176849999997102, 0.017395449999980883, 0.02043004499998915, 0.019660765000003265, 0.009205520000000434, 0.011855719999994107, 0.020292059999997038]\n",
      "Awkward Array Union: [9.188999999878433e-05, 9.373499999583146e-05, 7.382000001143751e-05, 7.594500000323024e-05, 9.365500000058091e-05, 7.768999998916115e-05, 8.780999999089545e-05, 8.231500000874803e-05, 8.937499999319697e-05, 8.193499998014886e-05, 9.250499999780004e-05, 8.778500000516942e-05, 8.285000001251319e-05, 9.44549999985611e-05, 8.381999998618994e-05, 7.791999998971733e-05, 7.490499999676103e-05, 8.649999999761348e-05, 8.614500000021507e-05, 9.002500000860891e-05]\n",
      "Awkward Array Classifier: [0.0014731100000062725, 0.0012438100000053964, 0.0010467999999946187, 0.0013372600000138846, 0.0013652350000029402, 0.001121435000004567, 0.0012032000000090192, 0.0012014000000135638, 0.001284934999989673, 0.0013412300000027245, 0.0014895499999965978, 0.0011808150000206298, 0.0012262149999969552, 0.0012077100000169594, 0.0011254450000024007, 0.0013164600000209249, 0.0012616249999837237, 0.0010642950000146812, 0.0014971450000075492, 0.0012672650000013163]\n",
      "Awkward Array Pipeline: [0.10071208499998648, 0.08936559000001125, 0.0926755349999894, 0.0916314600000078, 0.08584086000000753, 0.0928245600000082, 0.09172570999999152, 0.09408704500001477, 0.10480352500001118, 0.09228200999998534, 0.10675080500000149, 0.09213763999998718, 0.09168237999999747, 0.09523210499999095, 0.1034979900000053, 0.08697442999998657, 0.09419825499999206, 0.10024634000001242, 0.09267938999998933, 0.09450456499998836]\n",
      "\n",
      "Extension Array Tabularize: [0.0003437750000102824, 0.00035013499998512996, 0.00039982000000691185, 0.0004122900000083973, 0.000643685000000005, 0.0003404799999998431, 0.000372085000003608, 0.00038655000000744624, 0.00038806499999282095, 0.00038755499999751917, 0.00034053500000936766, 0.0003462099999978818, 0.0003494049999972049, 0.00035790000001725277, 0.0003586100000120496, 0.00035164999999324207, 0.00035973500000636706, 0.00037649999999302965, 0.00034521000000040656, 0.00036251999999876717]\n",
      "Extension Array Segmenter: [0.004937204999987443, 0.00468525999999656, 0.008258900000009816, 0.004335325000010925, 0.0054777699999931425, 0.0049860399999943185, 0.003881415000000743, 0.004809290000002875, 0.0044081499999947486, 0.0044015550000040095, 0.00445543999999245, 0.004571074999989833, 0.005747370000017326, 0.004793214999995144, 0.004471704999991744, 0.00445956500000193, 0.004348914999991393, 0.003882494999993469, 0.0045355599999993505, 0.004814534999991338]\n",
      "Extension Array Mean: [0.000546070000018517, 0.0005116649999990841, 0.0005674600000020291, 0.0005798899999945207, 0.00048773500000152124, 0.0004544950000081371, 0.0005297199999859004, 0.0005483099999992191, 0.0005143600000110382, 0.0005519399999911912, 0.0005261600000039835, 0.0005200699999932112, 0.0005218349999950078, 0.0005049800000051618, 0.0005711849999897822, 0.00048530500000651953, 0.0005249849999927392, 0.0005185750000009648, 0.0005169549999891387, 0.00045397999999750025]\n",
      "Extension Array Std: [0.0010089899999911722, 0.0015289750000192725, 0.0007614499999817781, 0.0022055050000062693, 0.0007628450000083831, 0.0008250050000015108, 0.0007171599999992395, 0.0009016750000000684, 0.0008340599999883125, 0.001149899999995796, 0.0007309950000035315, 0.0007318500000110361, 0.0009451749999925596, 0.0007337099999858765, 0.0008721649999870352, 0.0009444099999882383, 0.0008240099999966332, 0.000765335000005507, 0.0007412950000116325, 0.0006441550000090501]\n"
     ],
     "output_type": "stream"
    },
    {
     "traceback": [
      "\u001b[1;31m---------------------------------------------------------------------------\u001b[0m",
      "\u001b[1;31mAttributeError\u001b[0m                            Traceback (most recent call last)",
      "\u001b[1;32m~\\Google Drive\\Universitaet\\Data Science\\sktime_datacontainer\\benchmarks\\comparison_benchmark.py\u001b[0m in \u001b[0;36m<module>\u001b[1;34m\u001b[0m\n\u001b[0;32m    218\u001b[0m \u001b[0mX_slope\u001b[0m \u001b[1;33m=\u001b[0m \u001b[0mslope_transformer\u001b[0m\u001b[1;33m.\u001b[0m\u001b[0mfit_transform\u001b[0m\u001b[1;33m(\u001b[0m\u001b[0mX_segmented\u001b[0m\u001b[1;33m)\u001b[0m\u001b[1;33m\u001b[0m\u001b[1;33m\u001b[0m\u001b[0m\n\u001b[0;32m    219\u001b[0m \"\"\"\n\u001b[1;32m--> 220\u001b[1;33m \u001b[0mextarray_slope_timings\u001b[0m \u001b[1;33m=\u001b[0m \u001b[0mtimeit\u001b[0m\u001b[1;33m.\u001b[0m\u001b[0mrepeat\u001b[0m\u001b[1;33m(\u001b[0m\u001b[0msetup\u001b[0m\u001b[1;33m=\u001b[0m\u001b[0mEXTARRAY_UP_TO_NOW\u001b[0m\u001b[1;33m,\u001b[0m \u001b[0mstmt\u001b[0m\u001b[1;33m=\u001b[0m\u001b[0mEXTARRAY_TEST_CODE\u001b[0m\u001b[1;33m,\u001b[0m \u001b[0mrepeat\u001b[0m\u001b[1;33m=\u001b[0m\u001b[0mrepeats\u001b[0m\u001b[1;33m,\u001b[0m \u001b[0mnumber\u001b[0m\u001b[1;33m=\u001b[0m\u001b[0mruns\u001b[0m\u001b[1;33m)\u001b[0m\u001b[1;33m\u001b[0m\u001b[1;33m\u001b[0m\u001b[0m\n\u001b[0m\u001b[0;32m    221\u001b[0m \u001b[0mextarray_slope_timings\u001b[0m \u001b[1;33m=\u001b[0m \u001b[1;33m[\u001b[0m\u001b[0mtiming\u001b[0m\u001b[1;33m/\u001b[0m\u001b[0mruns\u001b[0m \u001b[1;32mfor\u001b[0m \u001b[0mtiming\u001b[0m \u001b[1;32min\u001b[0m \u001b[0mextarray_slope_timings\u001b[0m\u001b[1;33m]\u001b[0m\u001b[1;33m\u001b[0m\u001b[1;33m\u001b[0m\u001b[0m\n\u001b[0;32m    222\u001b[0m \u001b[0mprint\u001b[0m\u001b[1;33m(\u001b[0m\u001b[1;34mf\"Extension Array Slope: {extarray_slope_timings}\"\u001b[0m\u001b[1;33m)\u001b[0m\u001b[1;33m\u001b[0m\u001b[1;33m\u001b[0m\u001b[0m\n",
      "\u001b[1;32m~\\AppData\\Local\\Programs\\Python\\Python37\\lib\\timeit.py\u001b[0m in \u001b[0;36mrepeat\u001b[1;34m(stmt, setup, timer, repeat, number, globals)\u001b[0m\n\u001b[0;32m    235\u001b[0m            repeat=default_repeat, number=default_number, globals=None):\n\u001b[0;32m    236\u001b[0m     \u001b[1;34m\"\"\"Convenience function to create Timer object and call repeat method.\"\"\"\u001b[0m\u001b[1;33m\u001b[0m\u001b[1;33m\u001b[0m\u001b[0m\n\u001b[1;32m--> 237\u001b[1;33m     \u001b[1;32mreturn\u001b[0m \u001b[0mTimer\u001b[0m\u001b[1;33m(\u001b[0m\u001b[0mstmt\u001b[0m\u001b[1;33m,\u001b[0m \u001b[0msetup\u001b[0m\u001b[1;33m,\u001b[0m \u001b[0mtimer\u001b[0m\u001b[1;33m,\u001b[0m \u001b[0mglobals\u001b[0m\u001b[1;33m)\u001b[0m\u001b[1;33m.\u001b[0m\u001b[0mrepeat\u001b[0m\u001b[1;33m(\u001b[0m\u001b[0mrepeat\u001b[0m\u001b[1;33m,\u001b[0m \u001b[0mnumber\u001b[0m\u001b[1;33m)\u001b[0m\u001b[1;33m\u001b[0m\u001b[1;33m\u001b[0m\u001b[0m\n\u001b[0m\u001b[0;32m    238\u001b[0m \u001b[1;33m\u001b[0m\u001b[0m\n\u001b[0;32m    239\u001b[0m \u001b[1;32mdef\u001b[0m \u001b[0mmain\u001b[0m\u001b[1;33m(\u001b[0m\u001b[0margs\u001b[0m\u001b[1;33m=\u001b[0m\u001b[1;32mNone\u001b[0m\u001b[1;33m,\u001b[0m \u001b[1;33m*\u001b[0m\u001b[1;33m,\u001b[0m \u001b[0m_wrap_timer\u001b[0m\u001b[1;33m=\u001b[0m\u001b[1;32mNone\u001b[0m\u001b[1;33m)\u001b[0m\u001b[1;33m:\u001b[0m\u001b[1;33m\u001b[0m\u001b[1;33m\u001b[0m\u001b[0m\n",
      "\u001b[1;32m~\\AppData\\Local\\Programs\\Python\\Python37\\lib\\timeit.py\u001b[0m in \u001b[0;36mrepeat\u001b[1;34m(self, repeat, number)\u001b[0m\n\u001b[0;32m    202\u001b[0m         \u001b[0mr\u001b[0m \u001b[1;33m=\u001b[0m \u001b[1;33m[\u001b[0m\u001b[1;33m]\u001b[0m\u001b[1;33m\u001b[0m\u001b[1;33m\u001b[0m\u001b[0m\n\u001b[0;32m    203\u001b[0m         \u001b[1;32mfor\u001b[0m \u001b[0mi\u001b[0m \u001b[1;32min\u001b[0m \u001b[0mrange\u001b[0m\u001b[1;33m(\u001b[0m\u001b[0mrepeat\u001b[0m\u001b[1;33m)\u001b[0m\u001b[1;33m:\u001b[0m\u001b[1;33m\u001b[0m\u001b[1;33m\u001b[0m\u001b[0m\n\u001b[1;32m--> 204\u001b[1;33m             \u001b[0mt\u001b[0m \u001b[1;33m=\u001b[0m \u001b[0mself\u001b[0m\u001b[1;33m.\u001b[0m\u001b[0mtimeit\u001b[0m\u001b[1;33m(\u001b[0m\u001b[0mnumber\u001b[0m\u001b[1;33m)\u001b[0m\u001b[1;33m\u001b[0m\u001b[1;33m\u001b[0m\u001b[0m\n\u001b[0m\u001b[0;32m    205\u001b[0m             \u001b[0mr\u001b[0m\u001b[1;33m.\u001b[0m\u001b[0mappend\u001b[0m\u001b[1;33m(\u001b[0m\u001b[0mt\u001b[0m\u001b[1;33m)\u001b[0m\u001b[1;33m\u001b[0m\u001b[1;33m\u001b[0m\u001b[0m\n\u001b[0;32m    206\u001b[0m         \u001b[1;32mreturn\u001b[0m \u001b[0mr\u001b[0m\u001b[1;33m\u001b[0m\u001b[1;33m\u001b[0m\u001b[0m\n",
      "\u001b[1;32m~\\AppData\\Local\\Programs\\Python\\Python37\\lib\\timeit.py\u001b[0m in \u001b[0;36mtimeit\u001b[1;34m(self, number)\u001b[0m\n\u001b[0;32m    174\u001b[0m         \u001b[0mgc\u001b[0m\u001b[1;33m.\u001b[0m\u001b[0mdisable\u001b[0m\u001b[1;33m(\u001b[0m\u001b[1;33m)\u001b[0m\u001b[1;33m\u001b[0m\u001b[1;33m\u001b[0m\u001b[0m\n\u001b[0;32m    175\u001b[0m         \u001b[1;32mtry\u001b[0m\u001b[1;33m:\u001b[0m\u001b[1;33m\u001b[0m\u001b[1;33m\u001b[0m\u001b[0m\n\u001b[1;32m--> 176\u001b[1;33m             \u001b[0mtiming\u001b[0m \u001b[1;33m=\u001b[0m \u001b[0mself\u001b[0m\u001b[1;33m.\u001b[0m\u001b[0minner\u001b[0m\u001b[1;33m(\u001b[0m\u001b[0mit\u001b[0m\u001b[1;33m,\u001b[0m \u001b[0mself\u001b[0m\u001b[1;33m.\u001b[0m\u001b[0mtimer\u001b[0m\u001b[1;33m)\u001b[0m\u001b[1;33m\u001b[0m\u001b[1;33m\u001b[0m\u001b[0m\n\u001b[0m\u001b[0;32m    177\u001b[0m         \u001b[1;32mfinally\u001b[0m\u001b[1;33m:\u001b[0m\u001b[1;33m\u001b[0m\u001b[1;33m\u001b[0m\u001b[0m\n\u001b[0;32m    178\u001b[0m             \u001b[1;32mif\u001b[0m \u001b[0mgcold\u001b[0m\u001b[1;33m:\u001b[0m\u001b[1;33m\u001b[0m\u001b[1;33m\u001b[0m\u001b[0m\n",
      "\u001b[1;32m~\\AppData\\Local\\Programs\\Python\\Python37\\lib\\timeit.py\u001b[0m in \u001b[0;36minner\u001b[1;34m(_it, _timer)\u001b[0m\n",
      "\u001b[1;32mc:\\users\\rocke\\documents\\python\\venvs\\sktime_datacontainer\\lib\\site-packages\\sktime\\transformers\\base.py\u001b[0m in \u001b[0;36mfit_transform\u001b[1;34m(self, X, y, **fit_params)\u001b[0m\n\u001b[0;32m     38\u001b[0m         \u001b[1;32mif\u001b[0m \u001b[0my\u001b[0m \u001b[1;32mis\u001b[0m \u001b[1;32mNone\u001b[0m\u001b[1;33m:\u001b[0m\u001b[1;33m\u001b[0m\u001b[1;33m\u001b[0m\u001b[0m\n\u001b[0;32m     39\u001b[0m             \u001b[1;31m# fit method of arity 1 (unsupervised transformation)\u001b[0m\u001b[1;33m\u001b[0m\u001b[1;33m\u001b[0m\u001b[1;33m\u001b[0m\u001b[0m\n\u001b[1;32m---> 40\u001b[1;33m             \u001b[1;32mreturn\u001b[0m \u001b[0mself\u001b[0m\u001b[1;33m.\u001b[0m\u001b[0mfit\u001b[0m\u001b[1;33m(\u001b[0m\u001b[0mX\u001b[0m\u001b[1;33m,\u001b[0m \u001b[1;33m**\u001b[0m\u001b[0mfit_params\u001b[0m\u001b[1;33m)\u001b[0m\u001b[1;33m.\u001b[0m\u001b[0mtransform\u001b[0m\u001b[1;33m(\u001b[0m\u001b[0mX\u001b[0m\u001b[1;33m)\u001b[0m\u001b[1;33m\u001b[0m\u001b[1;33m\u001b[0m\u001b[0m\n\u001b[0m\u001b[0;32m     41\u001b[0m         \u001b[1;31m# fit method of arity 2 (supervised transformation)\u001b[0m\u001b[1;33m\u001b[0m\u001b[1;33m\u001b[0m\u001b[1;33m\u001b[0m\u001b[0m\n\u001b[0;32m     42\u001b[0m         \u001b[1;32mreturn\u001b[0m \u001b[0mself\u001b[0m\u001b[1;33m.\u001b[0m\u001b[0mfit\u001b[0m\u001b[1;33m(\u001b[0m\u001b[0mX\u001b[0m\u001b[1;33m,\u001b[0m \u001b[0my\u001b[0m\u001b[1;33m,\u001b[0m \u001b[1;33m**\u001b[0m\u001b[0mfit_params\u001b[0m\u001b[1;33m)\u001b[0m\u001b[1;33m.\u001b[0m\u001b[0mtransform\u001b[0m\u001b[1;33m(\u001b[0m\u001b[0mX\u001b[0m\u001b[1;33m)\u001b[0m\u001b[1;33m\u001b[0m\u001b[1;33m\u001b[0m\u001b[0m\n",
      "\u001b[1;32m~\\Google Drive\\Universitaet\\Data Science\\sktime_datacontainer\\extensionarray\\reimplement.py\u001b[0m in \u001b[0;36mtransform\u001b[1;34m(self, x, y)\u001b[0m\n\u001b[0;32m    270\u001b[0m         \"\"\"\n\u001b[0;32m    271\u001b[0m \u001b[1;33m\u001b[0m\u001b[0m\n\u001b[1;32m--> 272\u001b[1;33m         \u001b[0mxt\u001b[0m \u001b[1;33m=\u001b[0m \u001b[1;33m{\u001b[0m\u001b[0mcol\u001b[0m\u001b[1;33m:\u001b[0m \u001b[0mself\u001b[0m\u001b[1;33m.\u001b[0m\u001b[0m_func\u001b[0m\u001b[1;33m(\u001b[0m\u001b[0mx\u001b[0m\u001b[1;33m[\u001b[0m\u001b[0mcol\u001b[0m\u001b[1;33m]\u001b[0m\u001b[1;33m)\u001b[0m \u001b[1;32mfor\u001b[0m \u001b[0mcol\u001b[0m \u001b[1;32min\u001b[0m \u001b[0mx\u001b[0m\u001b[1;33m.\u001b[0m\u001b[0mcolumns\u001b[0m\u001b[1;33m}\u001b[0m\u001b[1;33m\u001b[0m\u001b[1;33m\u001b[0m\u001b[0m\n\u001b[0m\u001b[0;32m    273\u001b[0m         \u001b[1;32mreturn\u001b[0m \u001b[0mpd\u001b[0m\u001b[1;33m.\u001b[0m\u001b[0mDataFrame\u001b[0m\u001b[1;33m(\u001b[0m\u001b[0mdata\u001b[0m\u001b[1;33m=\u001b[0m\u001b[0mxt\u001b[0m\u001b[1;33m)\u001b[0m\u001b[1;33m\u001b[0m\u001b[1;33m\u001b[0m\u001b[0m\n\u001b[0;32m    274\u001b[0m \u001b[1;33m\u001b[0m\u001b[0m\n",
      "\u001b[1;32m~\\Google Drive\\Universitaet\\Data Science\\sktime_datacontainer\\extensionarray\\reimplement.py\u001b[0m in \u001b[0;36m<dictcomp>\u001b[1;34m(.0)\u001b[0m\n\u001b[0;32m    270\u001b[0m         \"\"\"\n\u001b[0;32m    271\u001b[0m \u001b[1;33m\u001b[0m\u001b[0m\n\u001b[1;32m--> 272\u001b[1;33m         \u001b[0mxt\u001b[0m \u001b[1;33m=\u001b[0m \u001b[1;33m{\u001b[0m\u001b[0mcol\u001b[0m\u001b[1;33m:\u001b[0m \u001b[0mself\u001b[0m\u001b[1;33m.\u001b[0m\u001b[0m_func\u001b[0m\u001b[1;33m(\u001b[0m\u001b[0mx\u001b[0m\u001b[1;33m[\u001b[0m\u001b[0mcol\u001b[0m\u001b[1;33m]\u001b[0m\u001b[1;33m)\u001b[0m \u001b[1;32mfor\u001b[0m \u001b[0mcol\u001b[0m \u001b[1;32min\u001b[0m \u001b[0mx\u001b[0m\u001b[1;33m.\u001b[0m\u001b[0mcolumns\u001b[0m\u001b[1;33m}\u001b[0m\u001b[1;33m\u001b[0m\u001b[1;33m\u001b[0m\u001b[0m\n\u001b[0m\u001b[0;32m    273\u001b[0m         \u001b[1;32mreturn\u001b[0m \u001b[0mpd\u001b[0m\u001b[1;33m.\u001b[0m\u001b[0mDataFrame\u001b[0m\u001b[1;33m(\u001b[0m\u001b[0mdata\u001b[0m\u001b[1;33m=\u001b[0m\u001b[0mxt\u001b[0m\u001b[1;33m)\u001b[0m\u001b[1;33m\u001b[0m\u001b[1;33m\u001b[0m\u001b[0m\n\u001b[0;32m    274\u001b[0m \u001b[1;33m\u001b[0m\u001b[0m\n",
      "\u001b[1;32m~\\Google Drive\\Universitaet\\Data Science\\sktime_datacontainer\\extensionarray\\reimplement.py\u001b[0m in \u001b[0;36mextarray_slope_func\u001b[1;34m(ts)\u001b[0m\n\u001b[0;32m    290\u001b[0m         \u001b[0mA\u001b[0m \u001b[1;36m1\u001b[0m\u001b[1;33m-\u001b[0m\u001b[0mD\u001b[0m \u001b[0marray\u001b[0m \u001b[0mof\u001b[0m \u001b[0mslope\u001b[0m \u001b[0mvalues\u001b[0m \u001b[1;32mfor\u001b[0m \u001b[0mts\u001b[0m\u001b[1;33m.\u001b[0m\u001b[1;33m\u001b[0m\u001b[1;33m\u001b[0m\u001b[0m\n\u001b[0;32m    291\u001b[0m     \"\"\"\n\u001b[1;32m--> 292\u001b[1;33m     \u001b[0mx\u001b[0m \u001b[1;33m=\u001b[0m \u001b[0mts\u001b[0m\u001b[1;33m.\u001b[0m\u001b[0mtime_index\u001b[0m\u001b[1;33m\u001b[0m\u001b[1;33m\u001b[0m\u001b[0m\n\u001b[0m\u001b[0;32m    293\u001b[0m     \u001b[0my\u001b[0m \u001b[1;33m=\u001b[0m \u001b[0mts\u001b[0m\u001b[1;33m.\u001b[0m\u001b[0mvalues\u001b[0m\u001b[1;33m.\u001b[0m\u001b[0mdata\u001b[0m\u001b[1;33m\u001b[0m\u001b[1;33m\u001b[0m\u001b[0m\n\u001b[0;32m    294\u001b[0m \u001b[1;33m\u001b[0m\u001b[0m\n",
      "\u001b[1;32mc:\\users\\rocke\\documents\\python\\venvs\\sktime_datacontainer\\lib\\site-packages\\pandas\\core\\generic.py\u001b[0m in \u001b[0;36m__getattr__\u001b[1;34m(self, name)\u001b[0m\n\u001b[0;32m   5177\u001b[0m             \u001b[1;32mif\u001b[0m \u001b[0mself\u001b[0m\u001b[1;33m.\u001b[0m\u001b[0m_info_axis\u001b[0m\u001b[1;33m.\u001b[0m\u001b[0m_can_hold_identifiers_and_holds_name\u001b[0m\u001b[1;33m(\u001b[0m\u001b[0mname\u001b[0m\u001b[1;33m)\u001b[0m\u001b[1;33m:\u001b[0m\u001b[1;33m\u001b[0m\u001b[1;33m\u001b[0m\u001b[0m\n\u001b[0;32m   5178\u001b[0m                 \u001b[1;32mreturn\u001b[0m \u001b[0mself\u001b[0m\u001b[1;33m[\u001b[0m\u001b[0mname\u001b[0m\u001b[1;33m]\u001b[0m\u001b[1;33m\u001b[0m\u001b[1;33m\u001b[0m\u001b[0m\n\u001b[1;32m-> 5179\u001b[1;33m             \u001b[1;32mreturn\u001b[0m \u001b[0mobject\u001b[0m\u001b[1;33m.\u001b[0m\u001b[0m__getattribute__\u001b[0m\u001b[1;33m(\u001b[0m\u001b[0mself\u001b[0m\u001b[1;33m,\u001b[0m \u001b[0mname\u001b[0m\u001b[1;33m)\u001b[0m\u001b[1;33m\u001b[0m\u001b[1;33m\u001b[0m\u001b[0m\n\u001b[0m\u001b[0;32m   5180\u001b[0m \u001b[1;33m\u001b[0m\u001b[0m\n\u001b[0;32m   5181\u001b[0m     \u001b[1;32mdef\u001b[0m \u001b[0m__setattr__\u001b[0m\u001b[1;33m(\u001b[0m\u001b[0mself\u001b[0m\u001b[1;33m,\u001b[0m \u001b[0mname\u001b[0m\u001b[1;33m,\u001b[0m \u001b[0mvalue\u001b[0m\u001b[1;33m)\u001b[0m\u001b[1;33m:\u001b[0m\u001b[1;33m\u001b[0m\u001b[1;33m\u001b[0m\u001b[0m\n",
      "\u001b[1;31mAttributeError\u001b[0m: 'Series' object has no attribute 'time_index'"
     ],
     "ename": "AttributeError",
     "evalue": "'Series' object has no attribute 'time_index'",
     "output_type": "error"
    }
   ],
   "source": [
    "%run ./comparison_benchmark.py"
   ],
   "metadata": {
    "collapsed": false,
    "pycharm": {
     "name": "#%%\n",
     "is_executing": false
    }
   }
  }
 ],
 "metadata": {
  "kernelspec": {
   "display_name": "Python 3",
   "language": "python",
   "name": "python3"
  },
  "language_info": {
   "codemirror_mode": {
    "name": "ipython",
    "version": 2
   },
   "file_extension": ".py",
   "mimetype": "text/x-python",
   "name": "python",
   "nbconvert_exporter": "python",
   "pygments_lexer": "ipython2",
   "version": "2.7.6"
  },
  "pycharm": {
   "stem_cell": {
    "cell_type": "raw",
    "source": [],
    "metadata": {
     "collapsed": false
    }
   }
  }
 },
 "nbformat": 4,
 "nbformat_minor": 0
}