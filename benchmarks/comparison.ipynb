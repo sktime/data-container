{
 "cells": [
  {
   "cell_type": "code",
   "execution_count": 1,
   "metadata": {
    "pycharm": {
     "is_executing": false
    }
   },
   "outputs": [],
   "source": [
    "# General imports\n",
    "from sklearn.tree import DecisionTreeClassifier\n",
    "from sktime.datasets import load_gunpoint\n",
    "from sktime.pipeline import Pipeline, FeatureUnion\n",
    "import pandas as pd\n",
    "import numpy as np\n",
    "\n",
    "# Imports for the current sktime implementation (i.e. pd.Series)\n",
    "from sklearn.preprocessing import FunctionTransformer\n",
    "from sktime.transformers.segment import RandomIntervalSegmenter as BaseIntervalSegmenter\n",
    "from sktime.transformers.compose import RowwiseTransformer, Tabularizer\n",
    "from sktime.utils.time_series import time_series_slope\n",
    "from sktime.utils.data_container import tabularize\n",
    "\n",
    "# Imports for the awkwardarray-based implementation\n",
    "from awkwardarray.transformers import \\\n",
    "    RandomIntervalSegmenter as AwkIntervalSegmenter, \\\n",
    "    FeatureUnionTransformer as AwkFeatureUnionTransformer, \\\n",
    "    UniversalFunctionTransformer as AwkUniversalFunctionTransformer, \\\n",
    "    GenericFunctionTransformer as AwkGenericFunctionTransformer, TabularTransformer\n",
    "from awkwardarray.utils import awkward_build, awkward_slope_func, awkward_tabularize\n",
    "\n",
    "# Imports for the extensionarray-based implementation\n",
    "from extensionarray.timeframe import TimeFrame\n",
    "from extensionarray.reimplement import \\\n",
    "    RandomIntervalSegmenter as ExtIntervalSegmenter, \\\n",
    "    UniversalFunctionTransformer as ExtUniversalFunctionTransformer, \\\n",
    "    GenericFunctionTransformer as ExtGenericFunctionTransformer, \\\n",
    "    extarray_slope_func"
   ]
  },
  {
   "cell_type": "markdown",
   "metadata": {
    "pycharm": {
     "name": "#%% md\n"
    }
   },
   "source": [
    "## Prepare the data for each implementation\n"
   ]
  },
  {
   "cell_type": "code",
   "execution_count": 2,
   "metadata": {
    "pycharm": {
     "is_executing": false,
     "name": "#%%\n"
    }
   },
   "outputs": [],
   "source": [
    "# Replicate the gunpoint dataset 20 times to get a reasonably sized dataset\n",
    "X = pd.concat([load_gunpoint(return_X_y=False) for _ in range(20)])\n",
    "y = X['class_val']\n",
    "X.drop('class_val', axis=1, inplace=True)\n"
   ]
  },
  {
   "cell_type": "code",
   "execution_count": 3,
   "metadata": {
    "pycharm": {
     "is_executing": false,
     "name": "#%%\n"
    }
   },
   "outputs": [
    {
     "name": "stdout",
     "output_type": "stream",
     "text": [
      "dim_0    object\n",
      "dtype: object\n",
      "Class of a single cell: <class 'pandas.core.series.Series'>\n",
      "Representation in the console: \n",
      "                                               dim_0\n",
      "0  0     -0.64789\n",
      "1     -0.64199\n",
      "2     -0.63819\n",
      "3...\n",
      "1  0     -0.64443\n",
      "1     -0.64540\n",
      "2     -0.64706\n",
      "3...\n"
     ]
    }
   ],
   "source": [
    "# This is the current implementation\n",
    "X_base = X.copy()\n",
    "\n",
    "print(X_base.dtypes)\n",
    "print(\"Class of a single cell: \" + str(X_base.iloc[0,0].__class__))\n",
    "print(\"Representation in the console: \")\n",
    "print(X_base.head(2))"
   ]
  },
  {
   "cell_type": "code",
   "execution_count": 4,
   "metadata": {
    "pycharm": {
     "is_executing": false,
     "name": "#%%\n"
    }
   },
   "outputs": [
    {
     "name": "stdout",
     "output_type": "stream",
     "text": [
      "Representation in the console: \n",
      "[[[-0.64789 -0.64199 -0.63819 ... -0.64043 -0.63867 -0.63866]] [[-0.64443 -0.6454 -0.64706 ... -0.63493 -0.6345 -0.6316]] [[-0.77835 -0.77828 -0.77715 ... -0.7042 -0.70761 -0.70712]] ... [[-0.77913 -0.77838 -0.77574 ... -0.50501 -0.50373 -0.50438]] [[-0.70303 -0.70262 -0.7025 ... -0.64113 -0.64141 -0.64211]] [[-1.4357 -1.4323 -1.4329 ... -1.4355 -1.4353 -1.4309]]]\n"
     ]
    }
   ],
   "source": [
    "# Convert to an awkward array\n",
    "X_awk = awkward_build(X)\n",
    "\n",
    "print(\"Representation in the console: \")\n",
    "print(X_awk)"
   ]
  },
  {
   "cell_type": "code",
   "execution_count": 5,
   "metadata": {
    "pycharm": {
     "is_executing": false,
     "name": "#%%\n"
    }
   },
   "outputs": [
    {
     "name": "stdout",
     "output_type": "stream",
     "text": [
      "dim_0    timeseries\n",
      "dtype: object\n",
      "Class of a single cell: <class 'numpy.ndarray'>\n",
      "Representation in the console: \n",
      "                                               dim_0\n",
      "0  [-0.64789  -0.64199  -0.63819  -0.63826  -0.63...\n",
      "1  [-0.64443  -0.6454   -0.64706  -0.64749  -0.64...\n"
     ]
    }
   ],
   "source": [
    "# Convert to an extensionarray/TimeFrame\n",
    "X_ext = TimeFrame(data={'dim_0': tabularize(X['dim_0'], return_array=True)})\n",
    "\n",
    "print(X_ext.dtypes)\n",
    "print(\"Class of a single cell: \" + str(X_ext.iloc[0,0].__class__))\n",
    "print(\"Representation in the console: \")\n",
    "print(X_ext.head(2))\n"
   ]
  },
  {
   "cell_type": "markdown",
   "metadata": {
    "pycharm": {
     "is_executing": false,
     "name": "#%% md \n"
    }
   },
   "source": [
    "## Tabularize"
   ]
  },
  {
   "cell_type": "code",
   "execution_count": 7,
   "metadata": {
    "pycharm": {
     "is_executing": false,
     "name": "#%%\n"
    }
   },
   "outputs": [
    {
     "name": "stdout",
     "output_type": "stream",
     "text": [
      "<class 'pandas.core.frame.DataFrame'>\n",
      "dim_0__0      float64\n",
      "dim_0__1      float64\n",
      "dim_0__2      float64\n",
      "dim_0__3      float64\n",
      "dim_0__4      float64\n",
      "               ...   \n",
      "dim_0__145    float64\n",
      "dim_0__146    float64\n",
      "dim_0__147    float64\n",
      "dim_0__148    float64\n",
      "dim_0__149    float64\n",
      "Length: 150, dtype: object\n",
      "Representation in the console: \n",
      "   dim_0__0  dim_0__1  dim_0__2  dim_0__3  dim_0__4\n",
      "0  -0.64789  -0.64199  -0.63819  -0.63826  -0.63835\n",
      "1  -0.64443  -0.64540  -0.64706  -0.64749  -0.64691\n"
     ]
    }
   ],
   "source": [
    "base_tabularizer = Tabularizer(check_input=False)\n",
    "X_base_tab = base_tabularizer.fit_transform(X)\n",
    "\n",
    "print(X_base_tab.__class__)\n",
    "print(X_base_tab.dtypes)\n",
    "print(\"Representation in the console: \")\n",
    "print(X_base_tab.iloc[0:2, 0:5])"
   ]
  },
  {
   "cell_type": "code",
   "execution_count": 8,
   "metadata": {
    "pycharm": {
     "is_executing": false,
     "name": "#%%\n"
    }
   },
   "outputs": [
    {
     "name": "stdout",
     "output_type": "stream",
     "text": [
      "<class 'awkward.array.jagged.JaggedArray'>\n",
      "Representation in the console: \n",
      "[[-0.64789 -0.64199 -0.63819 ... -0.64043 -0.63867 -0.63866] [-0.64443 -0.6454 -0.64706 ... -0.63493 -0.6345 -0.6316] [-0.77835 -0.77828 -0.77715 ... -0.7042 -0.70761 -0.70712] ... [-0.77913 -0.77838 -0.77574 ... -0.50501 -0.50373 -0.50438] [-0.70303 -0.70262 -0.7025 ... -0.64113 -0.64141 -0.64211] [-1.4357 -1.4323 -1.4329 ... -1.4355 -1.4353 -1.4309]]\n"
     ]
    }
   ],
   "source": [
    "awk_tabularizer = TabularTransformer()\n",
    "X_awk_tab = awk_tabularizer.fit_transform(X_awk)\n",
    "print(X_awk_tab.__class__)\n",
    "print(\"Representation in the console: \")\n",
    "print(X_awk_tab)"
   ]
  },
  {
   "cell_type": "code",
   "execution_count": 9,
   "metadata": {
    "pycharm": {
     "is_executing": false,
     "name": "#%%\n"
    }
   },
   "outputs": [
    {
     "name": "stdout",
     "output_type": "stream",
     "text": [
      "<class 'pandas.core.frame.DataFrame'>\n",
      "Representation in the console: \n",
      "                                               dim_0\n",
      "0  [-0.64789  -0.64199  -0.63819  -0.63826  -0.63...\n",
      "1  [-0.64443  -0.6454   -0.64706  -0.64749  -0.64...\n"
     ]
    }
   ],
   "source": [
    "X_ext_tab = X_ext.tabularise()\n",
    "\n",
    "print(X_ext_tab.__class__)\n",
    "print(\"Representation in the console: \")\n",
    "print(X_ext_tab.iloc[0:2, 0:5])\n"
   ]
  },
  {
   "cell_type": "markdown",
   "metadata": {
    "pycharm": {
     "is_executing": false,
     "name": "#%% md \n"
    }
   },
   "source": [
    "## Segmentation"
   ]
  },
  {
   "cell_type": "code",
   "execution_count": 11,
   "metadata": {
    "pycharm": {
     "is_executing": false,
     "name": "#%%\n"
    }
   },
   "outputs": [
    {
     "name": "stdout",
     "output_type": "stream",
     "text": [
      "<class 'pandas.core.frame.DataFrame'>\n",
      "dim_0_48_59      object\n",
      "dim_0_141_150    object\n",
      "dim_0_8_116      object\n",
      "dtype: object\n",
      "Class of a single cell: <class 'numpy.ndarray'>\n",
      "Representation in the console: \n",
      "                                         dim_0_48_59  \\\n",
      "0  [-0.64448, -0.64889, -0.65766, -0.6612, -0.649...   \n",
      "1  [-0.50726, -0.47291, -0.39633, -0.33415, -0.2,...   \n",
      "\n",
      "                                       dim_0_141_150  \\\n",
      "0  [-0.63972, -0.63973, -0.64018, -0.63923, -0.63...   \n",
      "1  [-0.64143, -0.63927, -0.6378, -0.63768, -0.635...   \n",
      "\n",
      "                                         dim_0_8_116  \n",
      "0  [-0.64505, -0.64712, -0.64915, -0.65125, -0.65...  \n",
      "1  [-0.6353, -0.63538, -0.63411, -0.63372, -0.632...  \n"
     ]
    }
   ],
   "source": [
    "base_segmenter = BaseIntervalSegmenter(n_intervals=3)\n",
    "X_base_seg = base_segmenter.fit_transform(X_base)\n",
    "\n",
    "print(X_base_seg.__class__)\n",
    "print(X_base_seg.dtypes)\n",
    "print(\"Class of a single cell: \" + str(X_base_seg.iloc[0,0].__class__)) # Note: this has changed from pd.Series to np.ndarray\n",
    "print(\"Representation in the console: \")\n",
    "print(X_base_seg.iloc[0:2, 0:3])"
   ]
  },
  {
   "cell_type": "code",
   "execution_count": 12,
   "metadata": {
    "pycharm": {
     "is_executing": false,
     "name": "#%%\n"
    }
   },
   "outputs": [
    {
     "name": "stdout",
     "output_type": "stream",
     "text": [
      "<class 'awkward.array.jagged.JaggedArray'>\n",
      "Representation in the console: \n",
      "[[[1.8206 1.8172 1.8316 ... 1.2954 1.1717 1.0295] [-0.66345 -0.66219 -0.66234 ... -0.24145 -0.42928 -0.54788] [-0.28314 -0.17745 0.15825 ... -0.65258 -0.64332 -0.63887]] [[1.9097 1.9175 1.919 ... 0.46326 0.22508 -0.012778] [-0.60895 -0.60814 -0.60875 ... -0.80119 -0.81305 -0.8142] [0.69455 0.80781 0.92774 ... -0.64982 -0.6472 -0.6455]] [[1.6966 1.6942 1.6887 ... 0.64692 0.47169 0.30269] [-0.78045 -0.777 -0.76997 ... -0.45182 -0.49966 -0.53307] [1.1356 1.3415 1.52 ... -0.58864 -0.62929 -0.66251]] ... [[1.7845 1.7775 1.7747 ... 0.52741 0.44066 0.24082] [-0.71048 -0.71123 -0.71224 ... -0.71966 -0.73853 -0.73307] [0.89838 1.0403 1.2154 ... -0.5186 -0.51439 -0.50992]] [[1.8415 1.8388 1.8358 ... -0.34491 -0.43918 -0.50599] [-0.69749 -0.69596 -0.69521 ... -0.60391 -0.60818 -0.6079] [1.7226 1.8053 1.83 ... -0.68814 -0.71272 -0.72431]] [[0.78779 0.78659 0.78636 ... 0.77869 0.777 0.7711] [-1.2089 -1.0004 -0.75366 ... 0.78724 0.78711 0.78391] [0.78998 0.79245 0.79109 ... -0.67246 -0.85233 -1.0449]]]\n"
     ]
    }
   ],
   "source": [
    "awk_segmenter = AwkIntervalSegmenter(n_intervals=3)\n",
    "X_awk_seg = awk_segmenter.fit_transform(X_awk)\n",
    "\n",
    "print(X_awk_seg.__class__)\n",
    "print(\"Representation in the console: \")\n",
    "print(X_awk_seg)"
   ]
  },
  {
   "cell_type": "code",
   "execution_count": 13,
   "metadata": {
    "pycharm": {
     "is_executing": false,
     "name": "#%%\n"
    }
   },
   "outputs": [
    {
     "name": "stdout",
     "output_type": "stream",
     "text": [
      "<class 'pandas.core.frame.DataFrame'>\n",
      "dim_0_26_54     timeseries\n",
      "dim_0_54_92     timeseries\n",
      "dim_0_58_126    timeseries\n",
      "dtype: object\n",
      "Class of a single cell: <class 'numpy.ndarray'>\n",
      "Representation in the console: \n",
      "                                         dim_0_26_54  \\\n",
      "0  [-0.66141 -0.66145 -0.66037 -0.65911 -0.65974 ...   \n",
      "1  [-0.61068  -0.61113  -0.61108  -0.61171  -0.61...   \n",
      "\n",
      "                                         dim_0_54_92  \\\n",
      "0  [-0.53743 -0.46503 -0.35853 -0.28314 -0.17745 ...   \n",
      "1  [0.10084 0.31489 0.52512 0.69455 0.80781 0.927...   \n",
      "\n",
      "                                        dim_0_58_126  \n",
      "0  [-0.17745   0.15825   0.35028   0.48241   0.60...  \n",
      "1  [ 0.80781   0.92774   1.0859    1.2465    1.41...  \n"
     ]
    }
   ],
   "source": [
    "ext_segmenter = ExtIntervalSegmenter(n_intervals=3)\n",
    "X_ext_seg = ext_segmenter.fit_transform(X_ext)\n",
    "\n",
    "print(X_ext_seg.__class__)\n",
    "print(X_ext_seg.dtypes) # Note: the segments remain TimeSeries with all attached functionality\n",
    "print(\"Class of a single cell: \" + str(X_ext_seg.iloc[0,0].__class__)) \n",
    "print(\"Representation in the console: \")\n",
    "print(X_ext_seg.iloc[0:2, 0:3])"
   ]
  },
  {
   "cell_type": "markdown",
   "metadata": {
    "pycharm": {
     "is_executing": false,
     "name": "#%% md \n"
    }
   },
   "source": [
    "## Functions (mean)"
   ]
  },
  {
   "cell_type": "code",
   "execution_count": 15,
   "metadata": {
    "pycharm": {
     "is_executing": false,
     "name": "#%%\n"
    }
   },
   "outputs": [
    {
     "name": "stdout",
     "output_type": "stream",
     "text": [
      "<class 'pandas.core.frame.DataFrame'>\n",
      "dim_0_48_59      float64\n",
      "dim_0_141_150    float64\n",
      "dim_0_8_116      float64\n",
      "dtype: object\n",
      "Class of a single cell: <class 'numpy.float64'>\n",
      "Representation in the console: \n",
      "   dim_0_48_59  dim_0_141_150  dim_0_8_116\n",
      "0    -0.517604      -0.639582     0.251101\n",
      "1     0.040733      -0.636440     0.252787\n"
     ]
    }
   ],
   "source": [
    "base_mean_trans = RowwiseTransformer(FunctionTransformer(func=np.mean, validate=False))\n",
    "X_base_mean = base_mean_trans.fit_transform(X_base_seg)\n",
    "\n",
    "print(X_base_mean.__class__)\n",
    "print(X_base_mean.dtypes)\n",
    "print(\"Class of a single cell: \" + str(X_base_mean.iloc[0,0].__class__)) # Note: this has changed from pd.Series to np.ndarray\n",
    "print(\"Representation in the console: \")\n",
    "print(X_base_mean.iloc[0:2, 0:3])"
   ]
  },
  {
   "cell_type": "code",
   "execution_count": 16,
   "metadata": {
    "pycharm": {
     "is_executing": false,
     "name": "#%%\n"
    }
   },
   "outputs": [
    {
     "name": "stdout",
     "output_type": "stream",
     "text": [
      "<class 'awkward.array.jagged.JaggedArray'>\n",
      "Representation in the console: \n",
      "[[1.7153444444444446 0.4642138181818183 0.712687690140845] [1.4547915555555557 0.46386372727272734 0.629937633802817] [1.419971111111111 0.4927193522727272 0.714291690140845] ... [1.4083251851851855 0.42903604545454554 0.6772048169014085] [1.0359294814814815 0.45374573863636364 0.5839254366197184] [0.782517777777778 0.6708634545454545 0.6203691126760562]]\n"
     ]
    }
   ],
   "source": [
    "awk_mean_trans = AwkUniversalFunctionTransformer(\"mean\")\n",
    "X_awk_mean = awk_mean_trans.fit_transform(X_awk_seg)\n",
    "\n",
    "print(X_awk_mean.__class__)\n",
    "print(\"Representation in the console: \")\n",
    "print(X_awk_mean)"
   ]
  },
  {
   "cell_type": "code",
   "execution_count": 17,
   "metadata": {
    "pycharm": {
     "is_executing": false,
     "name": "#%%\n"
    }
   },
   "outputs": [
    {
     "name": "stdout",
     "output_type": "stream",
     "text": [
      "<class 'pandas.core.frame.DataFrame'>\n",
      "dim_0_26_54     float64\n",
      "dim_0_54_92     float64\n",
      "dim_0_58_126    float64\n",
      "dtype: object\n",
      "Class of a single cell: <class 'numpy.float64'>\n",
      "Representation in the console: \n",
      "   dim_0_26_54  dim_0_54_92  dim_0_58_126\n",
      "0    -0.651426     1.299906      0.767149\n",
      "1    -0.543285     1.571880      0.666525\n"
     ]
    }
   ],
   "source": [
    "ext_mean_trans = ExtUniversalFunctionTransformer(\"mean\")\n",
    "X_ext_mean = ext_mean_trans.fit_transform(X_ext_seg)\n",
    "\n",
    "print(X_ext_mean.__class__)\n",
    "print(X_ext_mean.dtypes) # Note: the segments remain TimeSeries with all attached functionality\n",
    "print(\"Class of a single cell: \" + str(X_ext_mean.iloc[0,0].__class__)) \n",
    "print(\"Representation in the console: \")\n",
    "print(X_ext_mean.iloc[0:2, 0:3])\n"
   ]
  },
  {
   "cell_type": "markdown",
   "metadata": {
    "pycharm": {
     "name": "#%% md\n"
    }
   },
   "source": [
    "**Note:** Both new implementations use a separate GenericFunctionTransformer to apply a custom slope function. This is not shown here, since it has the same output. It should also be possible to create a FunctionTransformer that can handle both universal functions and generic functions at the same time (e.g. through simple if-else statements).\n",
    "\n"
   ]
  },
  {
   "cell_type": "markdown",
   "metadata": {
    "pycharm": {
     "name": "#%% md\n"
    }
   },
   "source": [
    "## Run the full benchmarking"
   ]
  },
  {
   "cell_type": "code",
   "execution_count": 18,
   "metadata": {
    "pycharm": {
     "is_executing": false,
     "name": "#%%\n"
    }
   },
   "outputs": [
    {
     "name": "stdout",
     "output_type": "stream",
     "text": [
      "\n",
      "Awkward Array Tabularize: [5.891200000000651e-05, 6.193600000001354e-05, 5.741999999999692e-05, 6.314999999997184e-05]\n",
      "Awkward Array Segmenter: [0.004103032000000013, 0.004390236000000023, 0.003684504000000004, 0.004158588000000023]\n",
      "Awkward Array Mean: [0.0005607819999999819, 0.00045519800000001, 0.001895409999999984, 0.0005494759999999843]\n",
      "Awkward Array Std: [0.005631224000000046, 0.008903218000000023, 0.009458136000000011, 0.013094786000000056]\n",
      "Awkward Array Slope: [0.00892844199999999, 0.019455030000000022, 0.009823215999999989, 0.009848724000000005]\n",
      "Awkward Array Union: [7.081399999997017e-05, 7.490799999999353e-05, 7.828599999996299e-05, 8.325999999996724e-05]\n",
      "Awkward Array Classifier: [0.0012223339999999894, 0.001209265999999971, 0.0011577139999999985, 0.0014075400000000116]\n",
      "Awkward Array Pipeline: [0.09762096200000002, 0.09844961999999996, 0.09631554600000002, 0.10025390999999999]\n",
      "\n",
      "Extension Array Tabularize: [0.0003310059999999737, 0.00032560000000003697, 0.00032662799999997103, 0.0003185720000000458]\n",
      "Extension Array Segmenter: [0.004847537999999929, 0.004899613999999985, 0.00492414800000006, 0.004903082000000012]\n",
      "Extension Array Mean: [0.0005158660000000736, 0.0005564460000000793, 0.0004349460000000249, 0.0004368500000001063]\n",
      "Extension Array Std: [0.0007460380000000555, 0.0006723879999999837, 0.0008241080000000522, 0.0006287019999999189]\n",
      "Extension Array Slope: [0.0013940220000000635, 0.0009403519999999332, 0.0011341420000000823, 0.0010709380000000124]\n",
      "Extension Array Union: [0.00027204999999995037, 0.0003046820000000139, 0.0003170299999999315, 0.00032664199999999255]\n",
      "Extension Array Classifier: [0.0015519460000000152, 0.0014517859999999417, 0.0014607820000000515, 0.0015499779999998964]\n",
      "Extension Array Pipeline: [0.026587286000000033, 0.02577812800000004, 0.027964901999999937, 0.02394277400000021]\n",
      "\n",
      "DataFrame Tabularize: [0.07674506999999978, 0.0735385580000002, 0.0771129160000001, 0.07697820800000016]\n",
      "DataFrame Segmenter: [0.07703798599999999, 0.07503777600000007, 0.08029027199999973, 0.07957086599999996]\n",
      "DataFrame Mean: [0.02213862799999987, 0.025107110000000148, 0.02217038400000007, 0.022603949999999883]\n",
      "DataFrame Std: [0.06248765600000013, 0.06476433799999995, 0.061750285999999904, 0.06409529599999984]\n",
      "DataFrame Slope: [0.08940827599999977, 0.08897999400000003, 0.08748332800000014, 0.0908547759999999]\n",
      "DataFrame Union: [0.0005291579999999385, 0.0005559800000003179, 0.0005235540000001037, 0.0005259759999995594]\n",
      "DataFrame Classifier: [0.001360588000000007, 0.0011496139999997012, 0.001088579999999979, 0.0014160199999997758]\n",
      "DataFrame Pipeline: [0.7815804120000002, 0.77253442, 0.8111360339999999, 0.8152567979999992]\n",
      "\n",
      "awkwardarray approach:\n",
      "\n",
      "Tabularize Multiplier: 1260.7790305611609\n",
      "Segment Multiplier: 19.09463919747107\n",
      "Mean Multiplier: 26.588741661769348\n",
      "Std Multiplier: 6.824361418622226\n",
      "Slope Multiplier: 7.423229957949373\n",
      "Union Multiplier: 6.947251259488969\n",
      "Classifier Multiplier: 1.0035918599982092\n",
      "Pipeline Multiplier: 8.10031417122061\n",
      "\n",
      "ExtensionArray approach:\n",
      "Tabularize Multiplier: 233.8096091122593\n",
      "Segment Multiplier: 15.935976931481154\n",
      "Mean Multiplier: 47.332798383621956\n",
      "Std Multiplier: 88.14934613525287\n",
      "Slope Multiplier: 78.58354198544421\n",
      "Union Multiplier: 1.7491486425807476\n",
      "Classifier Multiplier: 0.8337864611008781\n",
      "Pipeline Multiplier: 30.50171107425696\n"
     ]
    }
   ],
   "source": [
    "%run ./comparison_benchmark.py\n"
   ]
  },
  {
   "cell_type": "code",
   "execution_count": null,
   "metadata": {
    "pycharm": {
     "is_executing": false,
     "name": "#%%\n"
    }
   },
   "outputs": [],
   "source": []
  }
 ],
 "metadata": {
  "kernelspec": {
   "display_name": "Python 3",
   "language": "python",
   "name": "python3"
  },
  "language_info": {
   "codemirror_mode": {
    "name": "ipython",
    "version": 3
   },
   "file_extension": ".py",
   "mimetype": "text/x-python",
   "name": "python",
   "nbconvert_exporter": "python",
   "pygments_lexer": "ipython3",
   "version": "3.7.4"
  },
  "pycharm": {
   "stem_cell": {
    "cell_type": "raw",
    "metadata": {
     "collapsed": false
    },
    "source": []
   }
  }
 },
 "nbformat": 4,
 "nbformat_minor": 1
}
