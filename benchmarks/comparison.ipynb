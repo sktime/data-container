{
 "cells": [
  {
   "cell_type": "code",
   "execution_count": 1,
   "metadata": {
    "pycharm": {
     "is_executing": false
    }
   },
   "outputs": [],
   "source": [
    "# General imports\n",
    "from sklearn.tree import DecisionTreeClassifier\n",
    "from sktime.datasets import load_gunpoint\n",
    "from sktime.pipeline import Pipeline, FeatureUnion\n",
    "import pandas as pd\n",
    "import numpy as np\n",
    "\n",
    "# Imports for the current sktime implementation (i.e. pd.Series)\n",
    "from sklearn.preprocessing import FunctionTransformer\n",
    "from sktime.transformers.segment import RandomIntervalSegmenter as BaseIntervalSegmenter\n",
    "from sktime.transformers.compose import RowwiseTransformer, Tabularizer\n",
    "from sktime.utils.time_series import time_series_slope\n",
    "from sktime.utils.data_container import tabularize\n",
    "\n",
    "# Imports for the awkwardarray-based implementation\n",
    "from awkwardarray.transformers import \\\n",
    "    RandomIntervalSegmenter as AwkIntervalSegmenter, \\\n",
    "    FeatureUnionTransformer as AwkFeatureUnionTransformer, \\\n",
    "    UniversalFunctionTransformer as AwkUniversalFunctionTransformer, \\\n",
    "    GenericFunctionTransformer as AwkGenericFunctionTransformer, TabularTransformer\n",
    "from awkwardarray.utils import awkward_build, awkward_slope_func, awkward_tabularize\n",
    "\n",
    "# Imports for the extensionarray-based implementation\n",
    "from extensionarray.timeframe import TimeFrame\n",
    "from extensionarray.timeseries import TimeSeries\n",
    "from extensionarray.reimplement import \\\n",
    "    RandomIntervalSegmenter as ExtIntervalSegmenter, \\\n",
    "    UniversalFunctionTransformer as ExtUniversalFunctionTransformer, \\\n",
    "    GenericFunctionTransformer as ExtGenericFunctionTransformer, \\\n",
    "    extarray_slope_func"
   ]
  },
  {
   "cell_type": "markdown",
   "metadata": {
    "pycharm": {
     "name": "#%% md\n"
    }
   },
   "source": [
    "## Prepare the data for each implementation\n"
   ]
  },
  {
   "cell_type": "code",
   "execution_count": 2,
   "metadata": {
    "pycharm": {
     "is_executing": false,
     "name": "#%%\n"
    }
   },
   "outputs": [],
   "source": [
    "# Replicate the gunpoint dataset 20 times to get a reasonably sized dataset\n",
    "X = pd.concat([load_gunpoint(return_X_y=False) for _ in range(20)])\n",
    "y = X['class_val']\n",
    "X.drop('class_val', axis=1, inplace=True)\n"
   ]
  },
  {
   "cell_type": "code",
   "execution_count": 3,
   "metadata": {
    "pycharm": {
     "is_executing": false,
     "name": "#%%\n"
    }
   },
   "outputs": [
    {
     "name": "stdout",
     "output_type": "stream",
     "text": [
      "dim_0    object\n",
      "dtype: object\n",
      "Class of a single cell: <class 'pandas.core.series.Series'>\n",
      "Representation in the console: \n",
      "                                               dim_0\n",
      "0  0     -0.64789\n",
      "1     -0.64199\n",
      "2     -0.63819\n",
      "3...\n",
      "1  0     -0.64443\n",
      "1     -0.64540\n",
      "2     -0.64706\n",
      "3...\n"
     ]
    }
   ],
   "source": [
    "# This is the current implementation\n",
    "X_base = X.copy()\n",
    "\n",
    "print(X_base.dtypes)\n",
    "print(\"Class of a single cell: \" + str(X_base.iloc[0,0].__class__))\n",
    "print(\"Representation in the console: \")\n",
    "print(X_base.head(2))"
   ]
  },
  {
   "cell_type": "code",
   "execution_count": 4,
   "metadata": {
    "pycharm": {
     "is_executing": false,
     "name": "#%%\n"
    }
   },
   "outputs": [
    {
     "name": "stdout",
     "output_type": "stream",
     "text": [
      "Representation in the console: \n",
      "[[[-0.64789 -0.64199 -0.63819 ... -0.64043 -0.63867 -0.63866]] [[-0.64443 -0.6454 -0.64706 ... -0.63493 -0.6345 -0.6316]] [[-0.77835 -0.77828 -0.77715 ... -0.7042 -0.70761 -0.70712]] ... [[-0.77913 -0.77838 -0.77574 ... -0.50501 -0.50373 -0.50438]] [[-0.70303 -0.70262 -0.7025 ... -0.64113 -0.64141 -0.64211]] [[-1.4357 -1.4323 -1.4329 ... -1.4355 -1.4353 -1.4309]]]\n"
     ]
    }
   ],
   "source": [
    "# Convert to an awkward array\n",
    "X_awk = awkward_build(X)\n",
    "\n",
    "print(\"Representation in the console: \")\n",
    "print(X_awk)"
   ]
  },
  {
   "cell_type": "code",
   "execution_count": 5,
   "metadata": {
    "pycharm": {
     "is_executing": false,
     "name": "#%%\n"
    }
   },
   "outputs": [
    {
     "name": "stdout",
     "output_type": "stream",
     "text": [
      "dim_0    timeseries\n",
      "dtype: object\n",
      "Class of a single cell: <class 'numpy.ndarray'>\n",
      "Representation in the console: \n",
      "                                               dim_0\n",
      "0  [-0.64789  -0.64199  -0.63819  -0.63826  -0.63...\n",
      "1  [-0.64443  -0.6454   -0.64706  -0.64749  -0.64...\n"
     ]
    }
   ],
   "source": [
    "# Convert to an extensionarray/TimeFrame\n",
    "X_ext = TimeFrame(data={'dim_0': tabularize(X['dim_0'], return_array=True)})\n",
    "\n",
    "print(X_ext.dtypes)\n",
    "print(\"Class of a single cell: \" + str(X_ext.iloc[0,0].__class__))\n",
    "print(\"Representation in the console: \")\n",
    "print(X_ext.head(2))\n"
   ]
  },
  {
   "cell_type": "markdown",
   "metadata": {
    "pycharm": {
     "is_executing": false,
     "name": "#%% md \n"
    }
   },
   "source": [
    "## Tabularize"
   ]
  },
  {
   "cell_type": "code",
   "execution_count": 6,
   "metadata": {
    "pycharm": {
     "is_executing": false,
     "name": "#%%\n"
    }
   },
   "outputs": [
    {
     "name": "stdout",
     "output_type": "stream",
     "text": [
      "<class 'pandas.core.frame.DataFrame'>\n",
      "dim_0__0      float64\n",
      "dim_0__1      float64\n",
      "dim_0__2      float64\n",
      "dim_0__3      float64\n",
      "dim_0__4      float64\n",
      "               ...   \n",
      "dim_0__145    float64\n",
      "dim_0__146    float64\n",
      "dim_0__147    float64\n",
      "dim_0__148    float64\n",
      "dim_0__149    float64\n",
      "Length: 150, dtype: object\n",
      "Representation in the console: \n",
      "   dim_0__0  dim_0__1  dim_0__2  dim_0__3  dim_0__4\n",
      "0  -0.64789  -0.64199  -0.63819  -0.63826  -0.63835\n",
      "1  -0.64443  -0.64540  -0.64706  -0.64749  -0.64691\n"
     ]
    }
   ],
   "source": [
    "base_tabularizer = Tabularizer(check_input=False)\n",
    "X_base_tab = base_tabularizer.fit_transform(X)\n",
    "\n",
    "print(X_base_tab.__class__)\n",
    "print(X_base_tab.dtypes)\n",
    "print(\"Representation in the console: \")\n",
    "print(X_base_tab.iloc[0:2, 0:5])"
   ]
  },
  {
   "cell_type": "code",
   "execution_count": 7,
   "metadata": {
    "pycharm": {
     "is_executing": false,
     "name": "#%%\n"
    }
   },
   "outputs": [
    {
     "name": "stdout",
     "output_type": "stream",
     "text": [
      "<class 'awkward.array.jagged.JaggedArray'>\n",
      "Representation in the console: \n",
      "[[-0.64789 -0.64199 -0.63819 ... -0.64043 -0.63867 -0.63866] [-0.64443 -0.6454 -0.64706 ... -0.63493 -0.6345 -0.6316] [-0.77835 -0.77828 -0.77715 ... -0.7042 -0.70761 -0.70712] ... [-0.77913 -0.77838 -0.77574 ... -0.50501 -0.50373 -0.50438] [-0.70303 -0.70262 -0.7025 ... -0.64113 -0.64141 -0.64211] [-1.4357 -1.4323 -1.4329 ... -1.4355 -1.4353 -1.4309]]\n"
     ]
    }
   ],
   "source": [
    "awk_tabularizer = TabularTransformer()\n",
    "X_awk_tab = awk_tabularizer.fit_transform(X_awk)\n",
    "print(X_awk_tab.__class__)\n",
    "print(\"Representation in the console: \")\n",
    "print(X_awk_tab)"
   ]
  },
  {
   "cell_type": "code",
   "execution_count": 8,
   "metadata": {
    "pycharm": {
     "is_executing": false,
     "name": "#%%\n"
    },
    "scrolled": true
   },
   "outputs": [
    {
     "name": "stdout",
     "output_type": "stream",
     "text": [
      "<class 'pandas.core.frame.DataFrame'>\n",
      "Representation in the console: \n",
      "   dim_0_0  dim_0_1  dim_0_2  dim_0_3  dim_0_4\n",
      "0 -0.64789 -0.64199 -0.63819 -0.63826 -0.63835\n",
      "1 -0.64443 -0.64540 -0.64706 -0.64749 -0.64691\n"
     ]
    }
   ],
   "source": [
    "X_ext_tab = X_ext.tabularise()\n",
    "\n",
    "print(X_ext_tab.__class__)\n",
    "print(\"Representation in the console: \")\n",
    "print(X_ext_tab.iloc[0:2, 0:5])\n"
   ]
  },
  {
   "cell_type": "markdown",
   "metadata": {
    "pycharm": {
     "is_executing": false,
     "name": "#%% md \n"
    }
   },
   "source": [
    "## Segmentation"
   ]
  },
  {
   "cell_type": "code",
   "execution_count": 9,
   "metadata": {
    "pycharm": {
     "is_executing": false,
     "name": "#%%\n"
    }
   },
   "outputs": [
    {
     "name": "stdout",
     "output_type": "stream",
     "text": [
      "<class 'pandas.core.frame.DataFrame'>\n",
      "dim_0_15_60     object\n",
      "dim_0_72_149    object\n",
      "dim_0_22_128    object\n",
      "dtype: object\n",
      "Class of a single cell: <class 'numpy.ndarray'>\n",
      "Representation in the console: \n",
      "                                         dim_0_15_60  \\\n",
      "0  [-0.66099, -0.66156, -0.66226, -0.66191, -0.66...   \n",
      "1  [-0.6287, -0.62747, -0.62409, -0.62038, -0.615...   \n",
      "\n",
      "                                        dim_0_72_149  \\\n",
      "0  [1.8102, 1.8206, 1.8172, 1.8316, 1.8316, 1.829...   \n",
      "1  [1.9125, 1.9097, 1.9175, 1.919, 1.919, 1.9252,...   \n",
      "\n",
      "                                        dim_0_22_128  \n",
      "0  [-0.66219, -0.66234, -0.66171, -0.66139, -0.66...  \n",
      "1  [-0.60814, -0.60875, -0.60932, -0.60964, -0.61...  \n"
     ]
    }
   ],
   "source": [
    "base_segmenter = BaseIntervalSegmenter(n_intervals=3, random_state=2)\n",
    "X_base_seg = base_segmenter.fit_transform(X_base)\n",
    "\n",
    "print(X_base_seg.__class__)\n",
    "print(X_base_seg.dtypes)\n",
    "print(\"Class of a single cell: \" + str(X_base_seg.iloc[0,0].__class__)) # Note: this has changed from pd.Series to np.ndarray\n",
    "print(\"Representation in the console: \")\n",
    "print(X_base_seg.iloc[0:2, 0:3])"
   ]
  },
  {
   "cell_type": "code",
   "execution_count": 10,
   "metadata": {
    "pycharm": {
     "is_executing": false,
     "name": "#%%\n"
    }
   },
   "outputs": [
    {
     "name": "stdout",
     "output_type": "stream",
     "text": [
      "<class 'awkward.array.jagged.JaggedArray'>\n",
      "Representation in the console: \n",
      "[[[-0.66464 -0.66412 -0.6643 ... -0.63656 -0.63317 -0.63304] [-0.67374 -0.66839 -0.66464 ... -0.63972 -0.63973 -0.64018] [-0.63656 -0.63317 -0.63304 ... -0.63303 -0.63522 -0.63447]] [[-0.67507 -0.66984 -0.66321 ... -0.64535 -0.64491 -0.64518] [-0.69251 -0.68554 -0.67507 ... -0.64143 -0.63927 -0.6378] [-0.64535 -0.64491 -0.64518 ... -0.64499 -0.64382 -0.64296]] [[-0.57186 -0.55389 -0.53961 ... -0.69088 -0.70717 -0.72228] [-0.60814 -0.58754 -0.57186 ... -0.71871 -0.71353 -0.71002] [-0.69088 -0.70717 -0.72228 ... -0.73874 -0.73924 -0.73841]] ... [[-0.54054 -0.5337 -0.53461 ... -0.50954 -0.51249 -0.51424] [-0.5578 -0.5497 -0.54054 ... -0.51271 -0.51012 -0.51187] [-0.50954 -0.51249 -0.51424 ... -0.51596 -0.51494 -0.51681]] [[-0.45623 -0.50398 -0.55318 ... -0.72823 -0.72739 -0.72803] [-0.40864 -0.42688 -0.45623 ... -0.64071 -0.6398 -0.63955] [-0.72823 -0.72739 -0.72803 ... -0.71407 -0.70227 -0.68975]] [[0.17029 0.027367 -0.15554 ... -1.2085 -1.3432 -1.4532] [0.40569 0.28903 0.17029 ... -1.4619 -1.4474 -1.4389] [-1.2085 -1.3432 -1.4532 ... -1.5722 -1.5874 -1.5864]]]\n"
     ]
    }
   ],
   "source": [
    "awk_segmenter = AwkIntervalSegmenter(n_intervals=3)\n",
    "X_awk_seg = awk_segmenter.fit_transform(X_awk)\n",
    "\n",
    "print(X_awk_seg.__class__)\n",
    "print(\"Representation in the console: \")\n",
    "print(X_awk_seg)"
   ]
  },
  {
   "cell_type": "code",
   "execution_count": 11,
   "metadata": {
    "pycharm": {
     "is_executing": false,
     "name": "#%%\n"
    }
   },
   "outputs": [
    {
     "name": "stdout",
     "output_type": "stream",
     "text": [
      "<class 'pandas.core.frame.DataFrame'>\n",
      "dim_0_15_60     timeseries\n",
      "dim_0_72_149    timeseries\n",
      "dim_0_22_128    timeseries\n",
      "dtype: object\n",
      "Class of a single cell: <class 'numpy.ndarray'>\n",
      "Representation in the console: \n",
      "                                         dim_0_15_60  \\\n",
      "0  [-0.66099 -0.66156 -0.66226 -0.66191 -0.66274 ...   \n",
      "1  [-0.6287   -0.62747  -0.62409  -0.62038  -0.61...   \n",
      "\n",
      "                                        dim_0_72_149  \\\n",
      "0  [ 1.8102    1.8206    1.8172    1.8316    1.83...   \n",
      "1  [ 1.9125    1.9097    1.9175    1.919     1.91...   \n",
      "\n",
      "                                        dim_0_22_128  \n",
      "0  [-0.66219  -0.66234  -0.66171  -0.66139  -0.66...  \n",
      "1  [-0.60814  -0.60875  -0.60932  -0.60964  -0.61...  \n"
     ]
    }
   ],
   "source": [
    "ext_segmenter = ExtIntervalSegmenter(n_intervals=3, random_state=2)\n",
    "X_ext_seg = ext_segmenter.fit_transform(X_ext)\n",
    "\n",
    "print(X_ext_seg.__class__)\n",
    "print(X_ext_seg.dtypes) # Note: the segments remain TimeSeries with all attached functionality\n",
    "print(\"Class of a single cell: \" + str(X_ext_seg.iloc[0,0].__class__)) \n",
    "print(\"Representation in the console: \")\n",
    "print(X_ext_seg.iloc[0:2, 0:3])"
   ]
  },
  {
   "cell_type": "markdown",
   "metadata": {
    "pycharm": {
     "is_executing": false,
     "name": "#%% md \n"
    }
   },
   "source": [
    "## Functions (mean)"
   ]
  },
  {
   "cell_type": "code",
   "execution_count": 12,
   "metadata": {
    "pycharm": {
     "is_executing": false,
     "name": "#%%\n"
    }
   },
   "outputs": [
    {
     "name": "stdout",
     "output_type": "stream",
     "text": [
      "<class 'pandas.core.frame.DataFrame'>\n",
      "dim_0_15_60     float64\n",
      "dim_0_72_149    float64\n",
      "dim_0_22_128    float64\n",
      "dtype: object\n",
      "Class of a single cell: <class 'numpy.float64'>\n",
      "Representation in the console: \n",
      "   dim_0_15_60  dim_0_72_149  dim_0_22_128\n",
      "0    -0.604105      0.298917      0.267474\n",
      "1    -0.413653      0.112757      0.264326\n"
     ]
    }
   ],
   "source": [
    "base_mean_trans = RowwiseTransformer(FunctionTransformer(func=np.mean, validate=False))\n",
    "X_base_mean = base_mean_trans.fit_transform(X_base_seg)\n",
    "\n",
    "print(X_base_mean.__class__)\n",
    "print(X_base_mean.dtypes)\n",
    "print(\"Class of a single cell: \" + str(X_base_mean.iloc[0,0].__class__)) \n",
    "print(\"Representation in the console: \")\n",
    "print(X_base_mean.iloc[0:2, 0:3])"
   ]
  },
  {
   "cell_type": "code",
   "execution_count": 13,
   "metadata": {
    "pycharm": {
     "is_executing": false,
     "name": "#%%\n"
    }
   },
   "outputs": [
    {
     "name": "stdout",
     "output_type": "stream",
     "text": [
      "<class 'awkward.array.jagged.JaggedArray'>\n",
      "Representation in the console: \n",
      "[[-0.6501045454545454 -0.6449611538461538 -0.6340714285714286] [-0.6544218181818182 -0.6510542307692307 -0.6447428571428571] [-0.61485 -0.6699869230769231 -0.7241957142857143] ... [-0.5215654545454546 -0.519678076923077 -0.5138542857142857] [-0.6432827272727273 -0.6376080769230769 -0.71622] [-0.6670011818181818 -1.0160997307692308 -1.4685857142857144]]\n"
     ]
    }
   ],
   "source": [
    "awk_mean_trans = AwkUniversalFunctionTransformer(\"mean\")\n",
    "X_awk_mean = awk_mean_trans.fit_transform(X_awk_seg)\n",
    "\n",
    "print(X_awk_mean.__class__)\n",
    "print(\"Representation in the console: \")\n",
    "print(X_awk_mean)"
   ]
  },
  {
   "cell_type": "code",
   "execution_count": 14,
   "metadata": {
    "pycharm": {
     "is_executing": false,
     "name": "#%%\n"
    }
   },
   "outputs": [
    {
     "name": "stdout",
     "output_type": "stream",
     "text": [
      "<class 'pandas.core.frame.DataFrame'>\n",
      "dim_0_15_60     float64\n",
      "dim_0_72_149    float64\n",
      "dim_0_22_128    float64\n",
      "dtype: object\n",
      "Class of a single cell: <class 'numpy.float64'>\n",
      "Representation in the console: \n",
      "   dim_0_15_60  dim_0_72_149  dim_0_22_128\n",
      "0    -0.604105      0.298917      0.267474\n",
      "1    -0.413653      0.112757      0.264326\n"
     ]
    }
   ],
   "source": [
    "ext_mean_trans = ExtUniversalFunctionTransformer(\"mean\")\n",
    "X_ext_mean = ext_mean_trans.fit_transform(X_ext_seg)\n",
    "\n",
    "print(X_ext_mean.__class__)\n",
    "print(X_ext_mean.dtypes) \n",
    "print(\"Class of a single cell: \" + str(X_ext_mean.iloc[0,0].__class__)) \n",
    "print(\"Representation in the console: \")\n",
    "print(X_ext_mean.iloc[0:2, 0:3])\n"
   ]
  },
  {
   "cell_type": "markdown",
   "metadata": {
    "pycharm": {
     "name": "#%% md\n"
    }
   },
   "source": [
    "**Note:** The above example only shows the application of numpy's universal functions. Both new implementations use a separate GenericFunctionTransformer to apply a custom slope function. This is not shown here, since it has the same output structur. It should also be possible to create a FunctionTransformer that can handle both universal functions and generic functions at the same time (e.g. through simple if-else statements).\n",
    "\n"
   ]
  },
  {
   "cell_type": "markdown",
   "metadata": {
    "pycharm": {
     "name": "#%% md\n"
    }
   },
   "source": [
    "## Run the full benchmarking"
   ]
  },
  {
   "cell_type": "code",
   "execution_count": 16,
   "metadata": {
    "pycharm": {
     "is_executing": false,
     "name": "#%%\n"
    }
   },
   "outputs": [
    {
     "name": "stdout",
     "output_type": "stream",
     "text": [
      "\n",
      "Awkward Array Tabularize: [5.456199999912315e-05, 4.581600000051367e-05, 5.961800000022777e-05, 4.822999999987587e-05]\n",
      "Awkward Array Segmenter: [0.0038566760000003342, 0.0039109199999995785, 0.003465754000000061, 0.0037042080000003353]\n",
      "Awkward Array Mean: [0.0023629619999996974, 0.0007000980000009349, 0.0020150280000007115, 0.0028593320000004497]\n",
      "Awkward Array Std: [0.005291322000000491, 0.0092077740000002, 0.008265671999999995, 0.0044292859999995925]\n",
      "Awkward Array Slope: [0.0076036940000005875, 0.014474813999999014, 0.016675112000000353, 0.014450940000000401]\n",
      "Awkward Array Union: [9.919999999965511e-05, 6.53639999995903e-05, 8.403199999975186e-05, 7.364199999983612e-05]\n",
      "Awkward Array Classifier: [0.0013443999999992683, 0.0012758040000005622, 0.00139108199999896, 0.0013827140000000782]\n",
      "Awkward Array Pipeline: [0.09462375800000018, 0.09275876400000016, 0.09302262199999972, 0.09370050199999923]\n",
      "\n",
      "Extension Array Tabularize: [0.0016493000000002667, 0.0017025239999998122, 0.0016460960000006253, 0.001683227999999417]\n",
      "Extension Array Segmenter: [0.005560891999999739, 0.005236893999999666, 0.005014827999999625, 0.005060376000000133]\n",
      "Extension Array Mean: [0.0005541859999993904, 0.0005933260000006157, 0.0004697320000002492, 0.0004643779999992148]\n",
      "Extension Array Std: [0.0010118640000007417, 0.0008519459999990886, 0.000861090000000786, 0.0011605280000003403]\n",
      "Extension Array Slope: [0.0015927679999992962, 0.001581061999999065, 0.0012516279999999825, 0.0014268279999998868]\n",
      "Extension Array Union: [0.000321896000000379, 0.00031078600000000733, 0.00032349400000043717, 0.0003139659999999367]\n",
      "Extension Array Classifier: [0.0015066720000004351, 0.0016287720000002536, 0.0014935579999996661, 0.0018191939999996976]\n",
      "Extension Array Pipeline: [0.025643477999999505, 0.027531823999999004, 0.02445927000000097, 0.026524332000000185]\n",
      "\n",
      "DataFrame Tabularize: [0.07829971599999908, 0.07827571799999987, 0.0738805780000007, 0.07406638799999996]\n",
      "DataFrame Segmenter: [0.08267654400000084, 0.08168339399999923, 0.08256006399999932, 0.08291078199999902]\n",
      "DataFrame Mean: [0.02125077000000033, 0.02122743000000014, 0.026681654000000207, 0.027608452000000627]\n",
      "DataFrame Std: [0.06365082999999913, 0.0616363100000001, 0.06447307399999999, 0.06763086599999951]\n",
      "DataFrame Slope: [0.0929743140000005, 0.09171936000000074, 0.08410427000000027, 0.0906243280000001]\n",
      "DataFrame Union: [0.0004415879999999106, 0.0004468440000005103, 0.00047315400000002227, 0.0005003099999998994]\n",
      "DataFrame Classifier: [0.00120765600000027, 0.0011650759999997718, 0.0013852099999996882, 0.0011891159999993307]\n",
      "DataFrame Pipeline: [0.8277263139999991, 0.8215936660000012, 0.8092432239999994, 0.8136521300000004]\n",
      "\n",
      "awkwardarray approach:\n",
      "\n",
      "Tabularize Multiplier: 1462.460979898664\n",
      "Segment Multiplier: 22.080636205729988\n",
      "Mean Multiplier: 12.191405519675087\n",
      "Std Multiplier: 9.464976424625624\n",
      "Slope Multiplier: 6.755478703329173\n",
      "Union Multiplier: 5.778015007562991\n",
      "Classifier Multiplier: 0.9171408972933071\n",
      "Pipeline Multiplier: 8.746768109455388\n",
      "\n",
      "ExtensionArray approach:\n",
      "Tabularize Multiplier: 45.579352530432516\n",
      "Segment Multiplier: 15.80179859234406\n",
      "Mean Multiplier: 46.48697313922794\n",
      "Std Multiplier: 66.24523218547233\n",
      "Slope Multiplier: 61.41570524750675\n",
      "Union Multiplier: 1.4658959391935928\n",
      "Classifier Multiplier: 0.7672003146304827\n",
      "Pipeline Multiplier: 31.415608347799154\n"
     ]
    }
   ],
   "source": [
    "%run ./comparison_benchmark.py\n"
   ]
  },
  {
   "cell_type": "code",
   "execution_count": null,
   "metadata": {
    "pycharm": {
     "is_executing": false,
     "name": "#%%\n"
    }
   },
   "outputs": [],
   "source": []
  }
 ],
 "metadata": {
  "kernelspec": {
   "display_name": "Python 3",
   "language": "python",
   "name": "python3"
  },
  "language_info": {
   "codemirror_mode": {
    "name": "ipython",
    "version": 3
   },
   "file_extension": ".py",
   "mimetype": "text/x-python",
   "name": "python",
   "nbconvert_exporter": "python",
   "pygments_lexer": "ipython3",
   "version": "3.7.4"
  },
  "pycharm": {
   "stem_cell": {
    "cell_type": "raw",
    "metadata": {
     "collapsed": false
    },
    "source": []
   }
  }
 },
 "nbformat": 4,
 "nbformat_minor": 1
}
