{
 "cells": [
  {
   "cell_type": "code",
   "execution_count": 1,
   "metadata": {
    "collapsed": true,
    "pycharm": {
     "is_executing": false
    }
   },
   "outputs": [
    {
     "name": "stderr",
     "text": [
      "c:\\users\\rocke\\documents\\python\\venvs\\sktime_datacontainer\\lib\\site-packages\\sklearn\\base.py:197: FutureWarning: From version 0.24, get_params will raise an AttributeError if a parameter cannot be retrieved as an instance attribute. Previously it would return None.\n",
      "  FutureWarning)\n"
     ],
     "output_type": "stream"
    }
   ],
   "source": [
    "import timeit\n",
    "import warnings\n",
    "import numpy as np\n",
    "from benchmarks.composition_benchmark import \\\n",
    "    SETUP, PACKAGES, \\\n",
    "    SEGM, \\\n",
    "    MEAN, STD, SLOPE, \\\n",
    "    UNION, TREE, \\\n",
    "    PIPELINE_SETUP, PIPELINE_RUN"
   ]
  },
  {
   "cell_type": "code",
   "execution_count": 2,
   "outputs": [],
   "source": [
    "repeats = 5\n",
    "runs = 20\n",
    "\n",
    "ALT_PACKAGES = \"\"\"\n",
    "from sktime.utils.data_container import tabularize\n",
    "from extensionarray.timeframe import TimeFrame\n",
    "from extensionarray.reimplement import RandomIntervalSegmenter\n",
    "from extensionarray.reimplement import RowwiseTransformer\n",
    "\"\"\"\n",
    "\n",
    "ALT_X = \"\"\"TimeFrame(data={{'dim_0': tabularize(X_base['dim_0'], return_array=True), 'class_val': X_base['class_val']}})\"\"\"\n",
    "\n",
    "\n"
   ],
   "metadata": {
    "collapsed": false,
    "pycharm": {
     "name": "#%%\n",
     "is_executing": false
    }
   }
  },
  {
   "cell_type": "code",
   "execution_count": 3,
   "outputs": [],
   "source": [
    "def run_sizes(SETUP_CODE, TEST_CODE):\n",
    "    \"\"\"Helper function to run with different data sizes\"\"\"\n",
    "    for size in ['small', 'medium', 'large']:\n",
    "        times = np.array(timeit.repeat(setup=SETUP_CODE.format(size=size), stmt=TEST_CODE, repeat=repeats, number=runs))\n",
    "        \n",
    "        print(size + \":\")\n",
    "        print(times / runs)\n",
    "        print(\"\\n\")"
   ],
   "metadata": {
    "collapsed": false,
    "pycharm": {
     "name": "#%%\n",
     "is_executing": false
    }
   }
  },
  {
   "cell_type": "markdown",
   "source": [
    "# Segmentation"
   ],
   "metadata": {
    "collapsed": false
   }
  },
  {
   "cell_type": "markdown",
   "source": [
    "## Current implementation"
   ],
   "metadata": {
    "collapsed": false,
    "pycharm": {
     "name": "#%% md\n"
    }
   }
  },
  {
   "cell_type": "code",
   "execution_count": 4,
   "outputs": [
    {
     "name": "stdout",
     "text": [
      "                                        dim_0_73_144  \\\n",
      "0  [1.8206, 1.8172, 1.8316, 1.8316, 1.829, 1.8454...   \n",
      "1  [1.9097, 1.9175, 1.919, 1.919, 1.9252, 1.9172,...   \n",
      "2  [1.6966, 1.6942, 1.6887, 1.6887, 1.6866, 1.678...   \n",
      "3  [1.7762, 1.7765, 1.7774, 1.7774, 1.7719, 1.764...   \n",
      "4  [2.0341, 2.0241, 2.0245, 2.0245, 2.0274, 2.013...   \n",
      "\n",
      "                                         dim_0_37_92  \\\n",
      "0  [-0.65436, -0.65252, -0.65132, -0.64814, -0.64...   \n",
      "1  [-0.59801, -0.59754, -0.59777, -0.59699, -0.59...   \n",
      "2  [-0.71917, -0.66384, -0.63927, -0.63442, -0.62...   \n",
      "3  [-0.57064, -0.57865, -0.58557, -0.5858, -0.574...   \n",
      "4  [-0.57038, -0.56544, -0.56457, -0.56116, -0.55...   \n",
      "\n",
      "                                       dim_0_108_136  \n",
      "0  [-0.54788, -0.6577, -0.74082, -0.77535, -0.782...  \n",
      "1  [-0.8142, -0.80859, -0.79895, -0.78046, -0.763...  \n",
      "2  [-0.53307, -0.55715, -0.56284, -0.57744, -0.59...  \n",
      "3  [-0.53482, -0.5397, -0.54971, -0.5532, -0.5542...  \n",
      "4  [-0.54124, -0.5239, -0.5189, -0.52143, -0.5298...  \n"
     ],
     "output_type": "stream"
    }
   ],
   "source": [
    "STD_SETUP = SETUP.format(packages=PACKAGES, X=\"X_base\", size=\"{size}\")\n",
    "exec(STD_SETUP.format(size='small') + SEGM + \"print(X_segm.head())\")"
   ],
   "metadata": {
    "collapsed": false,
    "pycharm": {
     "name": "#%%\n",
     "is_executing": false
    }
   }
  },
  {
   "cell_type": "code",
   "execution_count": 5,
   "outputs": [
    {
     "name": "stdout",
     "text": [
      "small:\n",
      "[0.00441236 0.00441451 0.00580169 0.00403505 0.00397807]\n",
      "\n",
      "\n",
      "medium:\n",
      "[0.07447419 0.07665882 0.07691327 0.07531359 0.06344091]\n",
      "\n",
      "\n",
      "large:\n",
      "[0.6458689  0.60950201 0.66679824 0.67645553 0.63480974]\n",
      "\n",
      "\n"
     ],
     "output_type": "stream"
    }
   ],
   "source": [
    "run_sizes(STD_SETUP, SEGM)\n"
   ],
   "metadata": {
    "collapsed": false,
    "pycharm": {
     "name": "#%%        \n",
     "is_executing": false
    }
   }
  },
  {
   "cell_type": "markdown",
   "source": [
    "## ExtensionArray + Numpy implementation"
   ],
   "metadata": {
    "collapsed": false
   }
  },
  {
   "cell_type": "code",
   "execution_count": 6,
   "outputs": [
    {
     "name": "stdout",
     "text": [
      "                                       dim_0_110_143  \\\n",
      "0  [-0.74082 -0.77535 -0.78246 -0.76929 -0.74328 ...   \n",
      "1  [-0.79895 -0.78046 -0.76326 -0.75208 -0.73252 ...   \n",
      "2  [-0.56284 -0.57744 -0.59807 -0.6201  -0.63717 ...   \n",
      "3  [-0.54971 -0.5532  -0.55425 -0.55387 -0.55306 ...   \n",
      "4  [-0.5189  -0.52143 -0.52985 -0.5413  -0.5559  ...   \n",
      "\n",
      "                                         dim_0_26_62  \\\n",
      "0  [-0.66141 -0.66145 -0.66037 -0.65911 -0.65974 ...   \n",
      "1  [-0.61068  -0.61113  -0.61108  -0.61171  -0.61...   \n",
      "2  [-0.7699   -0.77251  -0.77291  -0.77447  -0.77...   \n",
      "3  [-0.7412   -0.74076  -0.73883  -0.73786  -0.72...   \n",
      "4  [-0.57425  -0.57437  -0.57325  -0.57393  -0.57...   \n",
      "\n",
      "                                        dim_0_62_148  \n",
      "0  [ 0.60381   0.7971    0.98755   1.2038    1.40...  \n",
      "1  [ 1.4187    1.5884    1.7182    1.8249    1.84...  \n",
      "2  [ 1.675     1.6882    1.6986    1.7035    1.70...  \n",
      "3  [ 1.7661    1.7717    1.7736    1.7781    1.78...  \n",
      "4  [ 2.0409    2.0521    2.0534    2.0363    2.03...  \n"
     ],
     "output_type": "stream"
    }
   ],
   "source": [
    "ALT_SETUP = SETUP.format(packages=ALT_PACKAGES, X=ALT_X, size=\"{size}\")\n",
    "exec(ALT_SETUP.format(size='small') + SEGM + \"print(X_segm.head())\")"
   ],
   "metadata": {
    "collapsed": false,
    "pycharm": {
     "name": "#%%\n",
     "is_executing": false
    }
   }
  },
  {
   "cell_type": "code",
   "execution_count": 7,
   "outputs": [
    {
     "name": "stdout",
     "text": [
      "small:\n",
      "[0.00329657 0.00394008 0.0034526  0.0031873  0.00320282]\n",
      "\n",
      "\n",
      "medium:\n",
      "[0.00431937 0.00433746 0.00460315 0.00515454 0.00430318]\n",
      "\n",
      "\n",
      "large:\n",
      "[0.02498852 0.02691219 0.02294537 0.02161233 0.0246959 ]\n",
      "\n",
      "\n"
     ],
     "output_type": "stream"
    }
   ],
   "source": [
    "run_sizes(ALT_SETUP, SEGM)\n"
   ],
   "metadata": {
    "collapsed": false,
    "pycharm": {
     "name": "#%%\n",
     "is_executing": false
    }
   }
  },
  {
   "cell_type": "markdown",
   "source": [
    "# Rowwise transformation"
   ],
   "metadata": {
    "collapsed": false
   }
  },
  {
   "cell_type": "markdown",
   "source": [
    "## Current implementation"
   ],
   "metadata": {
    "collapsed": false
   }
  },
  {
   "cell_type": "code",
   "execution_count": 8,
   "outputs": [
    {
     "name": "stdout",
     "text": [
      "   dim_0_133_146  dim_0_67_147  dim_0_96_119\n",
      "0      -0.637561      0.412180     -0.039188\n",
      "1      -0.640975      0.242139     -0.512866\n",
      "2      -0.722818      0.266120     -0.264547\n",
      "3      -0.729214      0.163796     -0.428085\n",
      "4      -0.637082      0.033954     -0.600508\n"
     ],
     "output_type": "stream"
    }
   ],
   "source": [
    "exec(STD_SETUP.format(size='small') + SEGM + MEAN + \"print(X_mean.head())\")\n"
   ],
   "metadata": {
    "collapsed": false,
    "pycharm": {
     "name": "#%%\n",
     "is_executing": false
    }
   }
  },
  {
   "cell_type": "code",
   "execution_count": 9,
   "outputs": [
    {
     "name": "stdout",
     "text": [
      "   dim_0_91_102  dim_0_104_117  dim_0_27_55\n",
      "0      0.354665       0.297043     0.023377\n",
      "1      0.523599       0.037384     0.175976\n",
      "2      0.484023       0.097999     0.305916\n",
      "3      0.431976       0.022855     0.435752\n",
      "4      0.098442       0.032886     0.512488\n"
     ],
     "output_type": "stream"
    }
   ],
   "source": [
    "exec(STD_SETUP.format(size='small') + SEGM + STD + \"print(X_std.head())\")\n"
   ],
   "metadata": {
    "collapsed": false,
    "pycharm": {
     "name": "#%%\n",
     "is_executing": false
    }
   }
  },
  {
   "cell_type": "code",
   "execution_count": 10,
   "outputs": [
    {
     "name": "stdout",
     "text": [
      "   dim_0_92_142  dim_0_22_148  dim_0_147_150\n",
      "0     -0.043489     -0.001830       0.000885\n",
      "1     -0.021316     -0.005554       0.001665\n",
      "2     -0.031875     -0.004706      -0.001460\n",
      "3     -0.020318     -0.007317       0.000420\n",
      "4      0.000641     -0.008796       0.005810\n"
     ],
     "output_type": "stream"
    }
   ],
   "source": [
    "exec(STD_SETUP.format(size='small') + SEGM + SLOPE + \"print(X_slope.head())\")\n"
   ],
   "metadata": {
    "collapsed": false,
    "pycharm": {
     "name": "#%%\n",
     "is_executing": false
    }
   }
  },
  {
   "cell_type": "code",
   "execution_count": 11,
   "outputs": [
    {
     "name": "stdout",
     "text": [
      "small:\n",
      "[0.01232421 0.01086605 0.01038981 0.01039632 0.01036159]\n",
      "\n",
      "\n",
      "medium:\n",
      "[0.14375779 0.13624961 0.14395786 0.14756031 0.14178638]\n",
      "\n",
      "\n",
      "large:\n",
      "[1.33136347 1.39616992 1.37778796 1.35339908 1.33615408]\n",
      "\n",
      "\n"
     ],
     "output_type": "stream"
    }
   ],
   "source": [
    "run_sizes(STD_SETUP + SEGM, MEAN + STD + SLOPE)\n",
    "\n"
   ],
   "metadata": {
    "collapsed": false,
    "pycharm": {
     "name": "#%%        \n",
     "is_executing": false
    }
   }
  },
  {
   "cell_type": "markdown",
   "source": [
    "## ExtensionArray + Numpy implementation"
   ],
   "metadata": {
    "collapsed": false
   }
  },
  {
   "cell_type": "code",
   "execution_count": 12,
   "outputs": [
    {
     "name": "stdout",
     "text": [
      "   dim_0_104_122  dim_0_110_142  dim_0_6_138\n",
      "0      -0.574764      -0.668839     0.087215\n",
      "1      -0.744521      -0.675340     0.087332\n",
      "2      -0.553785      -0.653108     0.100037\n",
      "3      -0.554771      -0.685163     0.099865\n",
      "4      -0.568657      -0.596140     0.085525\n"
     ],
     "output_type": "stream"
    }
   ],
   "source": [
    "ALT_MEAN = \"\"\"\n",
    "mean_transformer = RowwiseTransformer(np.mean)\n",
    "X_mean = mean_transformer.fit_transform(X_segm)\n",
    "\"\"\"\n",
    "exec(ALT_SETUP.format(size='small') + SEGM + ALT_MEAN + \"print(X_mean.head())\")"
   ],
   "metadata": {
    "collapsed": false,
    "pycharm": {
     "name": "#%%\n",
     "is_executing": false
    }
   }
  },
  {
   "cell_type": "code",
   "execution_count": 13,
   "outputs": [
    {
     "name": "stdout",
     "text": [
      "   dim_0_129_131  dim_0_86_90  dim_0_8_49\n",
      "0       0.000065     0.007004    0.007037\n",
      "1       0.000135     0.111519    0.021685\n",
      "2       0.007555     0.015713    0.077793\n",
      "3       0.003460     0.132396    0.125016\n",
      "4       0.002315     0.289037    0.127197\n"
     ],
     "output_type": "stream"
    }
   ],
   "source": [
    "ALT_STD = \"\"\"\n",
    "std_transformer = RowwiseTransformer(np.std)\n",
    "X_std = std_transformer.fit_transform(X_segm)\n",
    "\"\"\"\n",
    "exec(ALT_SETUP.format(size='small') + SEGM + ALT_STD + \"print(X_std.head())\")"
   ],
   "metadata": {
    "collapsed": false,
    "pycharm": {
     "name": "#%%\n",
     "is_executing": false
    }
   }
  },
  {
   "cell_type": "code",
   "execution_count": 14,
   "outputs": [
    {
     "name": "stdout",
     "text": [
      "   dim_0_132_139  dim_0_59_88  dim_0_43_69\n",
      "0      -0.000403     0.049860     0.097277\n",
      "1       0.000334     0.020416     0.121462\n",
      "2       0.002301    -0.000090     0.122895\n",
      "3       0.008018    -0.003230     0.114952\n",
      "4      -0.004553    -0.034456     0.120464\n"
     ],
     "output_type": "stream"
    }
   ],
   "source": [
    "ALT_SLOPE = \"\"\"\n",
    "slope_transformer = RowwiseTransformer(time_series_slope)\n",
    "X_slope = slope_transformer.fit_transform(X_segm)\n",
    "\"\"\"\n",
    "exec(ALT_SETUP.format(size='small') + SEGM + ALT_SLOPE + \"print(X_slope.head())\")"
   ],
   "metadata": {
    "collapsed": false,
    "pycharm": {
     "name": "#%%\n",
     "is_executing": false
    }
   }
  },
  {
   "cell_type": "code",
   "execution_count": 15,
   "outputs": [
    {
     "name": "stdout",
     "text": [
      "small:\n",
      "[0.01236816 0.01060348 0.01045412 0.00981298 0.00987581]\n",
      "\n",
      "\n",
      "medium:\n",
      "[0.14635239 0.13931574 0.13824431 0.1396536  0.13847   ]\n",
      "\n",
      "\n",
      "large:\n",
      "[1.49937354 1.48939394 1.51647517 1.50939551 1.5125714 ]\n",
      "\n",
      "\n"
     ],
     "output_type": "stream"
    }
   ],
   "source": [
    "run_sizes(ALT_SETUP + SEGM, ALT_MEAN + ALT_STD + ALT_SLOPE)\n"
   ],
   "metadata": {
    "collapsed": false,
    "pycharm": {
     "name": "#%%\n",
     "is_executing": false
    }
   }
  },
  {
   "cell_type": "markdown",
   "source": [
    "# Fitting a decision tree"
   ],
   "metadata": {
    "collapsed": false,
    "pycharm": {
     "name": "#%% md\n"
    }
   }
  },
  {
   "cell_type": "markdown",
   "source": [
    "## Current implementation"
   ],
   "metadata": {
    "collapsed": false
   }
  },
  {
   "cell_type": "code",
   "execution_count": 16,
   "outputs": [
    {
     "name": "stdout",
     "text": [
      "DecisionTreeClassifier(ccp_alpha=0.0, class_weight=None, criterion='gini',\n",
      "                       max_depth=None, max_features=None, max_leaf_nodes=None,\n",
      "                       min_impurity_decrease=0.0, min_impurity_split=None,\n",
      "                       min_samples_leaf=1, min_samples_split=2,\n",
      "                       min_weight_fraction_leaf=0.0, presort='deprecated',\n",
      "                       random_state=None, splitter='best')\n"
     ],
     "output_type": "stream"
    }
   ],
   "source": [
    "exec(STD_SETUP.format(size='small') + SEGM + MEAN + STD + SLOPE + UNION + TREE + \"print(dt)\")"
   ],
   "metadata": {
    "collapsed": false,
    "pycharm": {
     "name": "#%%\n",
     "is_executing": false
    }
   }
  },
  {
   "cell_type": "code",
   "execution_count": 17,
   "outputs": [
    {
     "name": "stdout",
     "text": [
      "small:\n",
      "[0.00106064 0.00105854 0.00105967 0.00118644 0.00210369]\n",
      "\n",
      "\n",
      "medium:\n",
      "[0.00200619 0.00183035 0.00176818 0.00181486 0.00169548]\n",
      "\n",
      "\n",
      "large:\n",
      "[0.01270033 0.01159061 0.01173287 0.01084395 0.01278779]\n",
      "\n",
      "\n"
     ],
     "output_type": "stream"
    }
   ],
   "source": [
    "run_sizes(STD_SETUP + SEGM + MEAN + STD + SLOPE, UNION + TREE)\n",
    "\n"
   ],
   "metadata": {
    "collapsed": false,
    "pycharm": {
     "name": "#%%        \n",
     "is_executing": false
    }
   }
  },
  {
   "cell_type": "markdown",
   "source": [
    "## ExtensionArray + Numpy implementation"
   ],
   "metadata": {
    "collapsed": false
   }
  },
  {
   "cell_type": "code",
   "execution_count": 18,
   "outputs": [
    {
     "name": "stdout",
     "text": [
      "DecisionTreeClassifier(ccp_alpha=0.0, class_weight=None, criterion='gini',\n",
      "                       max_depth=None, max_features=None, max_leaf_nodes=None,\n",
      "                       min_impurity_decrease=0.0, min_impurity_split=None,\n",
      "                       min_samples_leaf=1, min_samples_split=2,\n",
      "                       min_weight_fraction_leaf=0.0, presort='deprecated',\n",
      "                       random_state=None, splitter='best')\n"
     ],
     "output_type": "stream"
    }
   ],
   "source": [
    "exec(ALT_SETUP.format(size='small') + SEGM + ALT_MEAN + ALT_STD + ALT_SLOPE + UNION + TREE + \"print(dt)\")"
   ],
   "metadata": {
    "collapsed": false,
    "pycharm": {
     "name": "#%%\n",
     "is_executing": false
    }
   }
  },
  {
   "cell_type": "code",
   "execution_count": 19,
   "outputs": [
    {
     "name": "stdout",
     "text": [
      "small:\n",
      "[0.0011536  0.00102276 0.00139262 0.00107221 0.00107397]\n",
      "\n",
      "\n",
      "medium:\n",
      "[0.00194694 0.00186986 0.00168823 0.00190165 0.0017438 ]\n",
      "\n",
      "\n",
      "large:\n",
      "[0.00968788 0.0127235  0.01134488 0.01210373 0.01170516]\n",
      "\n",
      "\n"
     ],
     "output_type": "stream"
    }
   ],
   "source": [
    "run_sizes(ALT_SETUP + SEGM + ALT_MEAN + ALT_STD + ALT_SLOPE, UNION + TREE)\n",
    "\n"
   ],
   "metadata": {
    "collapsed": false,
    "pycharm": {
     "name": "#%%\n",
     "is_executing": false
    }
   }
  },
  {
   "cell_type": "markdown",
   "source": [
    "# Run the entire code (without Pipeline)\n",
    "\n"
   ],
   "metadata": {
    "collapsed": false,
    "pycharm": {
     "name": "#%% md\n",
     "is_executing": false
    }
   }
  },
  {
   "cell_type": "markdown",
   "source": [
    "## Current implementation"
   ],
   "metadata": {
    "collapsed": false,
    "pycharm": {
     "name": "#%% md\n",
     "is_executing": false
    }
   }
  },
  {
   "cell_type": "code",
   "execution_count": 20,
   "outputs": [
    {
     "name": "stdout",
     "text": [
      "small:\n",
      "[0.01733257 0.01826856 0.01486659 0.01465826 0.01621894]\n",
      "\n",
      "\n",
      "medium:\n",
      "[0.23066847 0.22011596 0.2175926  0.2243509  0.21838134]\n",
      "\n",
      "\n",
      "large:\n",
      "[1.98930447 2.0265968  2.05844606 2.01147538 1.94306061]\n",
      "\n",
      "\n"
     ],
     "output_type": "stream"
    }
   ],
   "source": [
    "run_sizes(STD_SETUP, SEGM + MEAN + STD + SLOPE + UNION + TREE)"
   ],
   "metadata": {
    "collapsed": false,
    "pycharm": {
     "name": "#%%\n",
     "is_executing": false
    }
   }
  },
  {
   "cell_type": "markdown",
   "source": [
    "## ExtensionArray + Numpy implementation"
   ],
   "metadata": {
    "collapsed": false
   }
  },
  {
   "cell_type": "code",
   "execution_count": 21,
   "outputs": [
    {
     "name": "stdout",
     "text": [
      "small:\n",
      "[0.01636118 0.01432715 0.01413276 0.01408621 0.01366441]\n",
      "\n",
      "\n",
      "medium:\n",
      "[0.17042191 0.15812508 0.16013438 0.16113825 0.16511359]\n",
      "\n",
      "\n",
      "large:\n",
      "[1.44229146 1.62615226 1.5570826  1.41412449 1.58018648]\n",
      "\n",
      "\n"
     ],
     "output_type": "stream"
    }
   ],
   "source": [
    "run_sizes(ALT_SETUP, SEGM + ALT_MEAN + ALT_STD + ALT_SLOPE + UNION + TREE)"
   ],
   "metadata": {
    "collapsed": false,
    "pycharm": {
     "name": "#%%\n",
     "is_executing": false
    }
   }
  },
  {
   "cell_type": "markdown",
   "source": [
    "# Entire pipeline"
   ],
   "metadata": {
    "collapsed": false
   }
  },
  {
   "cell_type": "markdown",
   "source": [
    "## Current implementation"
   ],
   "metadata": {
    "collapsed": false
   }
  },
  {
   "cell_type": "code",
   "execution_count": 22,
   "outputs": [
    {
     "name": "stderr",
     "text": [
      "c:\\users\\rocke\\documents\\python\\venvs\\sktime_datacontainer\\lib\\site-packages\\sklearn\\base.py:197: FutureWarning: From version 0.24, get_params will raise an AttributeError if a parameter cannot be retrieved as an instance attribute. Previously it would return None.\n",
      "  FutureWarning)\n"
     ],
     "output_type": "stream"
    }
   ],
   "source": [
    "exec(STD_SETUP.format(size='small') + PIPELINE_SETUP + PIPELINE_RUN)"
   ],
   "metadata": {
    "collapsed": false,
    "pycharm": {
     "name": "#%%\n",
     "is_executing": false
    }
   }
  },
  {
   "cell_type": "code",
   "execution_count": 23,
   "outputs": [
    {
     "name": "stdout",
     "text": [
      "small:\n",
      "[0.05023511 0.04771913 0.04771489 0.04806326 0.044281  ]\n",
      "\n",
      "\n",
      "medium:\n",
      "[0.63621557 0.62057692 0.69196533 0.67869243 0.6639045 ]\n",
      "\n",
      "\n",
      "large:\n",
      "[6.2014823  6.29271058 6.52939801 6.4855784  6.63195374]\n",
      "\n",
      "\n"
     ],
     "output_type": "stream"
    }
   ],
   "source": [
    "with warnings.catch_warnings():\n",
    "    # ignore all caught warnings\n",
    "    warnings.filterwarnings(\"ignore\")\n",
    "    run_sizes(STD_SETUP + PIPELINE_SETUP, PIPELINE_RUN)\n",
    "\n"
   ],
   "metadata": {
    "collapsed": false,
    "pycharm": {
     "name": "#%%\n",
     "is_executing": false
    }
   }
  },
  {
   "cell_type": "code",
   "execution_count": 24,
   "outputs": [],
   "source": [
    "ALT_PIPELINE_SETUP = \"\"\"\n",
    "steps = [\n",
    "    ('segment', RandomIntervalSegmenter(n_intervals='sqrt')),\n",
    "    ('transform', FeatureUnion([\n",
    "        ('mean', RowwiseTransformer(np.mean)),\n",
    "        ('std', RowwiseTransformer(np.std)),\n",
    "        ('slope', RowwiseTransformer(time_series_slope))\n",
    "    ])),\n",
    "    ('clf', DecisionTreeClassifier())\n",
    "]\n",
    "base_estimator = Pipeline(steps, random_state=1)\n",
    "\"\"\""
   ],
   "metadata": {
    "collapsed": false,
    "pycharm": {
     "name": "#%%\n",
     "is_executing": false
    }
   }
  },
  {
   "cell_type": "code",
   "execution_count": 25,
   "outputs": [
    {
     "name": "stderr",
     "text": [
      "c:\\users\\rocke\\documents\\python\\venvs\\sktime_datacontainer\\lib\\site-packages\\sklearn\\base.py:197: FutureWarning: From version 0.24, get_params will raise an AttributeError if a parameter cannot be retrieved as an instance attribute. Previously it would return None.\n",
      "  FutureWarning)\n"
     ],
     "output_type": "stream"
    }
   ],
   "source": [
    "exec(ALT_SETUP.format(size='small') + ALT_PIPELINE_SETUP + PIPELINE_RUN)\n"
   ],
   "metadata": {
    "collapsed": false,
    "pycharm": {
     "name": "#%%\n",
     "is_executing": false
    }
   }
  },
  {
   "cell_type": "code",
   "execution_count": 26,
   "outputs": [
    {
     "name": "stdout",
     "text": [
      "small:\n",
      "[0.05131963 0.0475224  0.05308473 0.05123933 0.04597206]\n",
      "\n",
      "\n",
      "medium:\n",
      "[0.62921237 0.6358315  0.69403446 0.61046803 0.64507376]\n",
      "\n",
      "\n",
      "large:\n",
      "[6.00081967 6.2081114  6.29292658 6.19396113 6.13856859]\n",
      "\n",
      "\n"
     ],
     "output_type": "stream"
    }
   ],
   "source": [
    "with warnings.catch_warnings():\n",
    "    # ignore all caught warnings\n",
    "    warnings.filterwarnings(\"ignore\")\n",
    "    run_sizes(ALT_SETUP + ALT_PIPELINE_SETUP, PIPELINE_RUN)"
   ],
   "metadata": {
    "collapsed": false,
    "pycharm": {
     "name": "#%%\n",
     "is_executing": false
    }
   }
  }
 ],
 "metadata": {
  "kernelspec": {
   "display_name": "Python 3",
   "language": "python",
   "name": "python3"
  },
  "language_info": {
   "codemirror_mode": {
    "name": "ipython",
    "version": 2
   },
   "file_extension": ".py",
   "mimetype": "text/x-python",
   "name": "python",
   "nbconvert_exporter": "python",
   "pygments_lexer": "ipython2",
   "version": "2.7.6"
  },
  "pycharm": {
   "stem_cell": {
    "cell_type": "raw",
    "source": [],
    "metadata": {
     "collapsed": false
    }
   }
  }
 },
 "nbformat": 4,
 "nbformat_minor": 0
}