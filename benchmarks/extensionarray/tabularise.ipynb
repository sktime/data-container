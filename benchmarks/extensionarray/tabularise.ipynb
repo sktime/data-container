{
 "cells": [
  {
   "cell_type": "code",
   "execution_count": 1,
   "outputs": [],
   "source": [
    "import timeit\n",
    "import numpy as np\n",
    "from benchmarks.tabularise_benchmark import SETUP, PACKAGES, TEST"
   ],
   "metadata": {
    "collapsed": false,
    "pycharm": {
     "name": "#%%\n",
     "is_executing": false
    }
   }
  },
  {
   "cell_type": "code",
   "execution_count": 2,
   "outputs": [],
   "source": [
    "repeats = 5\n",
    "runs = 20"
   ],
   "metadata": {
    "collapsed": false,
    "pycharm": {
     "name": "#%%\n",
     "is_executing": false
    }
   }
  },
  {
   "cell_type": "code",
   "source": [
    "def run_sizes(SETUP_CODE, TEST_CODE):\n",
    "    \"\"\"Helper function to run with different data sizes\"\"\"\n",
    "    for size in ['small', 'medium', 'large']:\n",
    "        times = np.array(timeit.repeat(setup=SETUP_CODE.format(size=size), stmt=TEST_CODE, repeat=repeats, number=runs))\n",
    "        \n",
    "        print(size + \":\")\n",
    "        print(times / runs)\n",
    "        print(\"\\n\")"
   ],
   "metadata": {
    "collapsed": false,
    "pycharm": {
     "name": "#%%\n",
     "is_executing": false
    }
   },
   "execution_count": 3,
   "outputs": []
  },
  {
   "cell_type": "markdown",
   "source": [
    "# Tabularise"
   ],
   "metadata": {
    "collapsed": false,
    "pycharm": {
     "name": "#%% md\n"
    }
   }
  },
  {
   "cell_type": "markdown",
   "source": [
    "## Current implementation\n"
   ],
   "metadata": {
    "collapsed": false,
    "pycharm": {
     "name": "#%% md\n",
     "is_executing": false
    }
   }
  },
  {
   "cell_type": "code",
   "execution_count": 4,
   "outputs": [
    {
     "name": "stdout",
     "text": [
      "   dim_0__0  dim_0__1  dim_0__2  dim_0__3  dim_0__4  dim_0__5  dim_0__6  \\\n",
      "0  -0.64789  -0.64199  -0.63819  -0.63826  -0.63835  -0.63870  -0.64305   \n",
      "1  -0.64443  -0.64540  -0.64706  -0.64749  -0.64691  -0.64388  -0.63973   \n",
      "2  -0.77835  -0.77828  -0.77715  -0.77768  -0.77590  -0.77242  -0.76546   \n",
      "3  -0.75006  -0.74810  -0.74616  -0.74593  -0.74377  -0.74381  -0.74521   \n",
      "4  -0.59954  -0.59742  -0.59927  -0.59826  -0.59758  -0.59130  -0.58902   \n",
      "\n",
      "   dim_0__7  dim_0__8  dim_0__9  ...  dim_0__140  dim_0__141  dim_0__142  \\\n",
      "0  -0.64377  -0.64505  -0.64712  ...    -0.63926    -0.63972    -0.63973   \n",
      "1  -0.63809  -0.63530  -0.63538  ...    -0.64114    -0.64143    -0.63927   \n",
      "2  -0.76228  -0.76375  -0.76536  ...    -0.72206    -0.71871    -0.71353   \n",
      "3  -0.74508  -0.74573  -0.74582  ...    -0.72167    -0.72466    -0.72923   \n",
      "4  -0.58753  -0.58546  -0.58385  ...    -0.64404    -0.64388    -0.64574   \n",
      "\n",
      "   dim_0__143  dim_0__144  dim_0__145  dim_0__146  dim_0__147  dim_0__148  \\\n",
      "0    -0.64018    -0.63923    -0.63939    -0.64023    -0.64043    -0.63867   \n",
      "1    -0.63780    -0.63768    -0.63526    -0.63549    -0.63493    -0.63450   \n",
      "2    -0.71002    -0.70413    -0.70326    -0.70339    -0.70420    -0.70761   \n",
      "3    -0.72894    -0.72783    -0.72824    -0.72645    -0.72552    -0.72519   \n",
      "4    -0.64646    -0.64646    -0.64558    -0.64241    -0.64334    -0.63680   \n",
      "\n",
      "   dim_0__149  \n",
      "0    -0.63866  \n",
      "1    -0.63160  \n",
      "2    -0.70712  \n",
      "3    -0.72468  \n",
      "4    -0.63172  \n",
      "\n",
      "[5 rows x 150 columns]\n"
     ],
     "output_type": "stream"
    }
   ],
   "source": [
    "STD_SETUP = SETUP.format(packages=PACKAGES, X=\"X_base\", size=\"{size}\")\n",
    "exec(STD_SETUP.format(size='small') + TEST + \"print(X_tab.head())\")"
   ],
   "metadata": {
    "collapsed": false,
    "pycharm": {
     "name": "#%%\n",
     "is_executing": false
    }
   }
  },
  {
   "cell_type": "code",
   "source": [
    "run_sizes(STD_SETUP, TEST)\n",
    "\n"
   ],
   "metadata": {
    "collapsed": false,
    "pycharm": {
     "name": "#%%\n",
     "is_executing": false
    }
   },
   "execution_count": 5,
   "outputs": [
    {
     "name": "stdout",
     "text": [
      "small:\n",
      "[0.00340176 0.00345375 0.0038984  0.00376559 0.00370237]\n",
      "\n",
      "\n",
      "medium:\n",
      "[0.06099804 0.06516728 0.07981695 0.07428021 0.06207213]\n",
      "\n",
      "\n",
      "large:\n",
      "[0.57888375 0.67165804 0.61649048 0.59075426 0.6423671 ]\n",
      "\n",
      "\n"
     ],
     "output_type": "stream"
    }
   ]
  },
  {
   "cell_type": "markdown",
   "source": [
    "## ExtensionArray + Numpy implementation"
   ],
   "metadata": {
    "collapsed": false,
    "pycharm": {
     "name": "#%% md\n",
     "is_executing": false
    }
   }
  },
  {
   "cell_type": "code",
   "execution_count": 6,
   "outputs": [],
   "source": [
    "ALT_PACKAGES = \"\"\"\n",
    "from sktime.utils.data_container import tabularize\n",
    "from extensionarray.timeframe import TimeFrame\n",
    "\"\"\"\n",
    "\n",
    "ALT_X = \"\"\"TimeFrame(data={{'dim_0': tabularize(X_base['dim_0'], return_array=True), 'class_val': X_base['class_val']}})\"\"\"\n",
    "\n",
    "ALT_TEST = \"\"\"\n",
    "X_tab = X.tabularise()\n",
    "\"\"\""
   ],
   "metadata": {
    "collapsed": false,
    "pycharm": {
     "name": "#%%\n",
     "is_executing": false
    }
   }
  },
  {
   "cell_type": "code",
   "execution_count": 7,
   "outputs": [
    {
     "name": "stdout",
     "text": [
      "   dim_0_0  dim_0_1  dim_0_2  dim_0_3  dim_0_4  dim_0_5  dim_0_6  dim_0_7  \\\n",
      "0 -0.64789 -0.64199 -0.63819 -0.63826 -0.63835 -0.63870 -0.64305 -0.64377   \n",
      "1 -0.64443 -0.64540 -0.64706 -0.64749 -0.64691 -0.64388 -0.63973 -0.63809   \n",
      "2 -0.77835 -0.77828 -0.77715 -0.77768 -0.77590 -0.77242 -0.76546 -0.76228   \n",
      "3 -0.75006 -0.74810 -0.74616 -0.74593 -0.74377 -0.74381 -0.74521 -0.74508   \n",
      "4 -0.59954 -0.59742 -0.59927 -0.59826 -0.59758 -0.59130 -0.58902 -0.58753   \n",
      "\n",
      "   dim_0_8  dim_0_9  ...  dim_0_140  dim_0_141  dim_0_142  dim_0_143  \\\n",
      "0 -0.64505 -0.64712  ...   -0.63926   -0.63972   -0.63973   -0.64018   \n",
      "1 -0.63530 -0.63538  ...   -0.64114   -0.64143   -0.63927   -0.63780   \n",
      "2 -0.76375 -0.76536  ...   -0.72206   -0.71871   -0.71353   -0.71002   \n",
      "3 -0.74573 -0.74582  ...   -0.72167   -0.72466   -0.72923   -0.72894   \n",
      "4 -0.58546 -0.58385  ...   -0.64404   -0.64388   -0.64574   -0.64646   \n",
      "\n",
      "   dim_0_144  dim_0_145  dim_0_146  dim_0_147  dim_0_148  dim_0_149  \n",
      "0   -0.63923   -0.63939   -0.64023   -0.64043   -0.63867   -0.63866  \n",
      "1   -0.63768   -0.63526   -0.63549   -0.63493   -0.63450   -0.63160  \n",
      "2   -0.70413   -0.70326   -0.70339   -0.70420   -0.70761   -0.70712  \n",
      "3   -0.72783   -0.72824   -0.72645   -0.72552   -0.72519   -0.72468  \n",
      "4   -0.64646   -0.64558   -0.64241   -0.64334   -0.63680   -0.63172  \n",
      "\n",
      "[5 rows x 150 columns]\n"
     ],
     "output_type": "stream"
    }
   ],
   "source": [
    "ALT_SETUP = SETUP.format(packages=ALT_PACKAGES, X=ALT_X, size=\"{size}\")\n",
    "exec(ALT_SETUP.format(size='small') + ALT_TEST + \"print(X_tab.head())\")"
   ],
   "metadata": {
    "collapsed": false,
    "pycharm": {
     "name": "#%%\n",
     "is_executing": false
    }
   }
  },
  {
   "cell_type": "code",
   "execution_count": 8,
   "outputs": [
    {
     "name": "stdout",
     "text": [
      "small:\n",
      "[0.00039327 0.000369   0.00041058 0.00054704 0.00036224]\n",
      "\n",
      "\n",
      "medium:\n",
      "[0.00090742 0.00090015 0.00091263 0.00099709 0.00091062]\n",
      "\n",
      "\n",
      "large:\n",
      "[0.00946142 0.00935255 0.00976064 0.00938045 0.00931351]\n",
      "\n",
      "\n"
     ],
     "output_type": "stream"
    }
   ],
   "source": [
    "run_sizes(ALT_SETUP, ALT_TEST)\n"
   ],
   "metadata": {
    "collapsed": false,
    "pycharm": {
     "name": "#%%\n",
     "is_executing": false
    }
   }
  }
 ],
 "metadata": {
  "kernelspec": {
   "display_name": "Python 3",
   "language": "python",
   "name": "python3"
  },
  "language_info": {
   "codemirror_mode": {
    "name": "ipython",
    "version": 2
   },
   "file_extension": ".py",
   "mimetype": "text/x-python",
   "name": "python",
   "nbconvert_exporter": "python",
   "pygments_lexer": "ipython2",
   "version": "2.7.6"
  },
  "pycharm": {
   "stem_cell": {
    "cell_type": "raw",
    "source": [],
    "metadata": {
     "collapsed": false
    }
   }
  }
 },
 "nbformat": 4,
 "nbformat_minor": 0
}